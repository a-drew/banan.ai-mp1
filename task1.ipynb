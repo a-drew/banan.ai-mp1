{
 "cells": [
  {
   "cell_type": "markdown",
   "metadata": {
    "colab_type": "text",
    "id": "view-in-github"
   },
   "source": [
    "<a href=\"https://colab.research.google.com/github/a-drew/banan.ai-mp1/blob/main/task1.ipynb\" target=\"_parent\"><img src=\"https://colab.research.google.com/assets/colab-badge.svg\" alt=\"Open In Colab\"/></a>"
   ]
  },
  {
   "cell_type": "markdown",
   "metadata": {
    "id": "UaS65pR1SaEY"
   },
   "source": [
    "1. Starter Imports"
   ]
  },
  {
   "cell_type": "code",
   "execution_count": 102,
   "metadata": {
    "id": "HKADUtcgGtiI"
   },
   "outputs": [],
   "source": [
    "import os\n",
    "import matplotlib.pyplot as plt\n",
    "import sklearn as skl\n",
    "from sklearn import *"
   ]
  },
  {
   "cell_type": "markdown",
   "metadata": {
    "id": "PEDVj7E3SoRw"
   },
   "source": [
    "2. Pre-Analysis"
   ]
  },
  {
   "cell_type": "code",
   "execution_count": 103,
   "outputs": [
    {
     "name": "stdout",
     "output_type": "stream",
     "text": [
      "['business', 'entertainment', 'politics', 'sport', 'tech']\n",
      "[510, 386, 417, 511, 401]\n"
     ]
    },
    {
     "data": {
      "text/plain": "<Figure size 432x288 with 1 Axes>",
      "image/png": "[encoded data removed]"
     },
     "metadata": {},
     "output_type": "display_data"
    }
   ],
   "source": [
    "categories = sorted([file for file in os.listdir('data/BBC') if file != 'README.TXT'])\n",
    "print(categories)\n",
    "counts = [len([name for name in os.listdir('data/BBC/' + category)]) for category in categories]\n",
    "print(counts)\n",
    "\n",
    "plt.pie(counts, labels=categories)\n",
    "plt.title('Class Distribution (by file count)')\n",
    "\n",
    "plt.savefig('output/BBC-distribution.pdf')\n",
    "plt.show()"
   ],
   "metadata": {
    "collapsed": false,
    "pycharm": {
     "name": "#%%\n"
    }
   }
  },
  {
   "cell_type": "markdown",
   "source": [
    "3. Load the Dataset"
   ],
   "metadata": {
    "collapsed": false,
    "pycharm": {
     "name": "#%% md\n"
    }
   }
  },
  {
   "cell_type": "code",
   "execution_count": 104,
   "outputs": [
    {
     "name": "stdout",
     "output_type": "stream",
     "text": [
      "dict_keys(['data', 'filenames', 'target_names', 'target', 'DESCR'])\n",
      "['business', 'entertainment', 'politics', 'sport', 'tech']\n",
      "[0 4 2 3 2]\n",
      "['data/BBC/business/385.txt' 'data/BBC/tech/160.txt'\n",
      " 'data/BBC/politics/090.txt' 'data/BBC/sport/074.txt'\n",
      " 'data/BBC/politics/399.txt']\n",
      "['Tate & Lyle boss bags top award\\n\\nTate & Lyle\\'s chief executive has been named European Businessman of the Year by a leading business magazine.\\n\\nIain Ferguson was awarded the title by US publication Forbes for returning one of the UK\\'s \"venerable\" manufacturers to the country\\'s top 100 companies. The sugar group had been absent from the FTSE 100 for seven years until Mr Ferguson helped it return to growth. Tate\\'s shares have leapt 55% this year, boosted by firming sugar prices and sales of its artificial sweeteners.\\n\\n\"After years of a sagging stock price and a seven-year hiatus from the FTSE 100, one of Britain\\'s venerable manufacturers has returned to the vaunted index,\" Forbes said. Mr Ferguson took the helm at the company in 2003, after spending most of his career at consumer goods giant Unilever. Tate & Lyle, which was an original member of the historic FT-30 index in 1935, operates more than 41 factories and 20 more additional production facilities in 28 countries. Previous winners of the Forbes award include Royal Bank of Scotland chief executive Fred Goodwin and former Vodafone boss Chris Gent.\\n', \"Halo 2 sells five million copies\\n\\nMicrosoft is celebrating bumper sales of its Xbox sci-fi shooter, Halo 2.\\n\\nThe game has sold more than five million copies worldwide since it went on sale in mid-November, the company said. Halo 2 has proved popular online, with gamers notching up a record 28 million hours playing the game on Xbox Live. According to Microsoft, nine out of 10 Xbox Live members have played the game for an average of 91 minutes per session.\\n\\nThe sequel to the best-selling Need for Speed: Underground has inched ahead of the competition to take the top slot in the official UK games charts. The racing game moved up one spot to first place, nudging GTA: San Andreas down to second place. Halo 2 dropped one place to five, while Half-Life 2 fell to number nine. Last week's new releases, GoldenEye: Rogue Agent and Killzone, both failed to make it into the top 10, debuting at number 11 and 12 respectively.\\n\\nRecord numbers of Warcraft fans are settling in the games online world. On the opening day of the World of Warcraft massive multi-player online game more than 200,000 players signed up to play. On the evening of the first day more than 100,000 players were in the world, forcing Blizzard to add another 34 servers to cope with the influx. The online game turns the stand alone Warcraft games into a persistent world that players can inhabit not just visit\\n\\nEurope's gamers could be waiting until January to hear when they can get their mitts on Nintendo's handheld device, Nintendo DS, says gamesindustry.biz. David Yarnton, Nintendo UK general manager, told a press conference to look out for details in the New Year. Its US launch was on Sunday and it goes on sale in Japan on 2 December. Nintendo has a 95% share of the handheld gaming market and said it expected to sell around five million of the DS by March 2005.\\n\", 'MSPs hear renewed climate warning\\n\\nClimate change could be completely out of control within several decades, the Scottish Environment Protection Agency is warning a committee of MSPs.\\n\\nExperts are giving evidence on the subject to the Scottish Parliament\\'s environment committee. Officials believe nuclear energy and wind farms may be better options than trying to tackle global warming. Solutions suggested by conservationists include reducing internal UK air travel and boosting electric trains. The evidence is part of the committee\\'s inquiry into the impact of climate change in Scotland. Sepa is attempting to curb global warming gases, as pollution from transport emissions increases.\\n\\nEcologists are warning MSPs that Scotland may have to accept \"significant intrusion\" from wind farms. It is likely also that nuclear power will be needed for possibly several decades. Sepa predict that the two methods will remain as energy sources until climate change is under control. Experts studying the seas off Scotland\\'s west coast have already forecast more devastating weather of the type which caused havoc across the country last month.\\n\\nThey predicted that damaging storms will become more frequent. Researchers from the University of the Highlands and Islands and Southampton have been looking at wave heights in the Atlantic over the last nine years. The project was conducted jointly by the Environmental Research Institute in Thurso, which is part of the University of the Highlands and Islands (UHI) Millennium Institute network, and the Southampton Oceanography Centre. Scientists carried out a series of studies, including the use of satellites to assess wave heights in the seas around the west coast and the Hebrides.\\n', 'Pavey focuses on indoor success\\n\\nJo Pavey will miss January\\'s View From Great Edinburgh International Cross Country to focus on preparing for the European Indoor Championships in March.\\n\\nThe 31-year-old was third behind Hayley Yelling and Justyna Bak in last week\\'s European Cross Country Championships but she prefers to race on the track. \"It was great winning bronze but I\\'m wary of injuries and must concentrate on the indoor season,\" she said. \"Because of previous injuries I don\\'t even run up hills in training.\" Pavey, who came fifth in the 5,000m at the Athens Olympics, helped the British cross country team win the team silver medal in Heringsdorf last week. She is likely to start her 3,000m season with a race in either Boston or Stuttgart at the end of January.\\n', 'Tories reject rethink on axed MP\\n\\nSacked MP Howard Flight\\'s local Conservative association has insisted he will not be its candidate at the general election.\\n\\nRussell Tanguay, agent for Arundel and South Downs Tories, said Mr Flight was ineligible to be a candidate and the association was seeking a substitute. The news comes despite Mr Flight\\'s allies saying they had enough support to hold a meeting to discuss his fate. Mr Flight landed in trouble over remarks on Tory tax and spending plans. He quit as Tory deputy chairman after apparently suggesting the Tories planned extra spending cuts - but he wants to continue as an MP.\\n\\nTory headquarters says he cannot stand as a Conservative candidate because he is no longer an approved candidate. Mr Tanguay backed that view on Tuesday, saying: \"Howard Flight is ineligible to stand as a Conservative Party candidate. \"The association is in the process of selecting a new candidate.\"\\n\\nBut the local Tory chairman made similar comments on Friday and dissent continues. Two local councillors who back Mr Flight met Mr Tanguay and the local association\\'s chairman in Arundel on Tuesday afternoon but did not comment as they left the meeting. Mr Flight says he will not stand down as a candidate unless his local party instructs him to do so at an extraordinary general meeting (EGM). The MP, who is consulting his lawyers, told BBC News: \"They selected me and they, if you like, dispose of me or keep me.\" Mr Flight\\'s supporters also say they have the 50 signatures needed to trigger the EGM.\\n\\nAt a news conference, Mr Howard insisted he had played by the party\\'s rules. The Tory leader, who argues he is ensuring honesty, said: \"We do not say one thing in private and another thing in public.\"\\n\\nLabour election campaign coordinator Alan Milburn said the Tories were in \"turmoil\" because Mr Flight had exposed their hidden plans. The comments were not a \"one-off\", he said, claiming Mr Howard and other senior Tories were obsessively committed to cutting public spending. Liberal Democrat chairman Matthew Taylor said: \"Whilst I disagree with Howard Flight\\'s views, it seems extraordinary to sack somebody for telling the truth.\"\\n\\nIt has also emerged Mr Howard has suspended Slough\\'s constituency Conservative association for refusing to deselect its candidate. Adrian Hilton was abandoned after suggesting the signing of the Maastricht Treaty, under John Major\\'s government, was an act of treason. The Catholic Herald also highlighted articles he wrote about the role of Catholicism in the European Union. Mr Hilton was chosen to fight the seat after the previous candidate, Robert Oulds, was sacked for being pictured with a range of guns and a hunting knife. Slough Conservative Association has now been placed on \"support status\" and is being run from Conservative campaign headquarters, says a senior party spokesman.\\n\\nMr Hilton on Tuesday said he was considering taking legal action against his deposal. He said the local party had only learned of the final decision on the BBC News website on Monday evening. \"There are people at Central Office who are behaving like little dictators and seemingly people who are ordinary members are being treated with contempt,\" he said. The party says it did try to contact the local Conservative chairman.\\n']\n"
     ]
    }
   ],
   "source": [
    "dataset = skl.datasets.load_files('data/BBC', encoding=\"latin1\")\n",
    "\n",
    "# print\n",
    "print(dataset.keys())\n",
    "print(dataset.target_names)\n",
    "print(dataset.target[0:5])\n",
    "print(dataset.filenames[0:5])\n",
    "print(dataset.data[0:5])"
   ],
   "metadata": {
    "collapsed": false,
    "pycharm": {
     "name": "#%%\n"
    }
   }
  },
  {
   "cell_type": "markdown",
   "source": [
    "4. Preprocess"
   ],
   "metadata": {
    "collapsed": false,
    "pycharm": {
     "name": "#%% md\n"
    }
   }
  },
  {
   "cell_type": "code",
   "execution_count": 105,
   "outputs": [],
   "source": [
    "from sklearn.feature_extraction.text import CountVectorizer\n",
    "vec = CountVectorizer()\n",
    "data_vectorized = vec.fit_transform(dataset.data)\n",
    "\n",
    "#print(len(vec.get_feature_names_out()))\n",
    "#vec.vocabulary_\n"
   ],
   "metadata": {
    "collapsed": false,
    "pycharm": {
     "name": "#%%\n"
    }
   }
  },
  {
   "cell_type": "markdown",
   "source": [
    "5. Split Training / Test Data"
   ],
   "metadata": {
    "collapsed": false,
    "pycharm": {
     "name": "#%% md\n"
    }
   }
  },
  {
   "cell_type": "code",
   "execution_count": 106,
   "outputs": [
    {
     "name": "stdout",
     "output_type": "stream",
     "text": [
      "  (0, 12684)\t8\n",
      "  (0, 3706)\t2\n",
      "  (0, 9975)\t1\n",
      "  (0, 18726)\t19\n",
      "  (0, 26462)\t61\n",
      "  (0, 29256)\t2\n",
      "  (0, 4980)\t3\n",
      "  (0, 16451)\t2\n",
      "  (0, 28521)\t3\n",
      "  (0, 11102)\t12\n",
      "  (0, 18837)\t5\n",
      "  (0, 26730)\t29\n",
      "  (0, 6390)\t2\n",
      "  (0, 11377)\t3\n",
      "  (0, 14557)\t11\n",
      "  (0, 12726)\t3\n",
      "  (0, 26531)\t3\n",
      "  (0, 2429)\t19\n",
      "  (0, 14571)\t7\n",
      "  (0, 23041)\t5\n",
      "  (0, 2994)\t3\n",
      "  (0, 6393)\t1\n",
      "  (0, 13801)\t13\n",
      "  (0, 17758)\t2\n",
      "  (0, 6764)\t1\n",
      "  :\t:\n",
      "  (1779, 1158)\t1\n",
      "  (1779, 24774)\t1\n",
      "  (1779, 20495)\t6\n",
      "  (1779, 17295)\t3\n",
      "  (1779, 3500)\t1\n",
      "  (1779, 24390)\t1\n",
      "  (1779, 28324)\t1\n",
      "  (1779, 25958)\t1\n",
      "  (1779, 12135)\t1\n",
      "  (1779, 12229)\t2\n",
      "  (1779, 21602)\t1\n",
      "  (1779, 17045)\t2\n",
      "  (1779, 21249)\t1\n",
      "  (1779, 25153)\t1\n",
      "  (1779, 8921)\t1\n",
      "  (1779, 28189)\t1\n",
      "  (1779, 18659)\t1\n",
      "  (1779, 19210)\t1\n",
      "  (1779, 13727)\t1\n",
      "  (1779, 5719)\t1\n",
      "  (1779, 23919)\t2\n",
      "  (1779, 11339)\t1\n",
      "  (1779, 2105)\t1\n",
      "  (1779, 11910)\t1\n",
      "  (1779, 3165)\t1\n",
      "[4 3 4 ... 3 4 0]\n"
     ]
    }
   ],
   "source": [
    "#split\n",
    "x_train, x_test, y_train, y_test = skl.model_selection.train_test_split(data_vectorized, dataset.target, train_size=0.8)\n",
    "print(x_train)\n",
    "print(y_train)"
   ],
   "metadata": {
    "collapsed": false,
    "pycharm": {
     "name": "#%%\n"
    }
   }
  },
  {
   "cell_type": "markdown",
   "source": [
    "6. Train Naive Bayes Classifier"
   ],
   "metadata": {
    "collapsed": false
   }
  },
  {
   "cell_type": "code",
   "source": [
    "nb = skl.naive_bayes.MultinomialNB()\n",
    "#Train the model using the training sets\n",
    "nb.fit(x_train, y_train)\n",
    "#Predict the response for test dataset\n",
    "y_pred = nb.predict(x_test)"
   ],
   "metadata": {
    "collapsed": false,
    "pycharm": {
     "name": "#%%\n"
    }
   },
   "execution_count": 107,
   "outputs": []
  },
  {
   "cell_type": "markdown",
   "source": [
    "7. Performance Metrics\n",
    " - [x] a clear separator (a sequence of hyphens or stars) and string clearly describing the model (e.g. “Multi- nomialNB default values, try 1”)\n",
    " - [x] the confusion matrix (you can use confusion matrix)\n",
    " - [x] the precision, recall, and F1-measure for each class (you can use classification report)\n",
    " - [x] the accuracy, macro-average F1 and weighted-average F1 of the model (you can use accuracy score and f1 score)\n",
    " - [ ] the prior probability of each class\n",
    " - [ ] the size of the vocabulary (i.e. the number of different words1)\n",
    " - [ ] the number of word-tokens in each class (i.e. the number of words in total2)\n",
    " - [ ] the number of word-tokens in the entire corpus\n",
    " - [ ] the number and percentage of words with a frequency of zero in each class\n",
    " - [ ] the number and percentage of words with a frequency of zero one in the entire corpus\n",
    " - [ ] your 2 favorite words (that are present in the vocabulary) and their log-prob"
   ],
   "metadata": {
    "collapsed": false
   }
  },
  {
   "cell_type": "code",
   "execution_count": 110,
   "outputs": [
    {
     "name": "stdout",
     "output_type": "stream",
     "text": [
      "================\n",
      " Naive Bayes #1 \n",
      "================\n",
      "\n",
      "confusion_matrix:\n",
      "[[105   1   3   0   3]\n",
      " [  1  63   2   0   2]\n",
      " [  1   0  91   0   0]\n",
      " [  1   0   1  92   0]\n",
      " [  0   0   2   0  77]]\n",
      "\n",
      "classification_report: \n",
      "              precision    recall  f1-score   support\n",
      "\n",
      "           0       0.97      0.94      0.95       112\n",
      "           1       0.98      0.93      0.95        68\n",
      "           2       0.92      0.99      0.95        92\n",
      "           3       1.00      0.98      0.99        94\n",
      "           4       0.94      0.97      0.96        79\n",
      "\n",
      "    accuracy                           0.96       445\n",
      "   macro avg       0.96      0.96      0.96       445\n",
      "weighted avg       0.96      0.96      0.96       445\n",
      "\n",
      "\n",
      "accuracy_score: \n",
      "0.9617977528089887\n",
      "\n",
      "f1_score (macro avg): \n",
      "0.9615479082402267\n",
      "\n",
      "f1_score (weighted avg): \n",
      "0.9618821752523208\n"
     ]
    }
   ],
   "source": [
    "print('================')\n",
    "print(' Naive Bayes #1 ')\n",
    "print('================')\n",
    "\n",
    "print('\\nconfusion_matrix:')\n",
    "print(metrics.confusion_matrix(y_test, y_pred))\n",
    "\n",
    "print(\"\\nclassification_report: \")\n",
    "print(metrics.classification_report(y_test, y_pred))\n",
    "\n",
    "print(\"\\naccuracy_score: \")\n",
    "print(metrics.accuracy_score(y_test, y_pred))\n",
    "print(\"\\nf1_score (macro avg): \")\n",
    "print(metrics.f1_score(y_test, y_pred, average='macro'))\n",
    "print(\"\\nf1_score (weighted avg): \")\n",
    "print(metrics.f1_score(y_test, y_pred, average='weighted'))"
   ],
   "metadata": {
    "collapsed": false,
    "pycharm": {
     "name": "#%%\n"
    }
   }
  }
 ],
 "metadata": {
  "colab": {
   "authorship_tag": "ABX9TyOM4FWTEFHATi4Q0tnMefGC",
   "collapsed_sections": [],
   "include_colab_link": true,
   "name": "task1.ipynb",
   "provenance": []
  },
  "kernelspec": {
   "display_name": "Python 3 (ipykernel)",
   "language": "python",
   "name": "python3"
  },
  "language_info": {
   "codemirror_mode": {
    "name": "ipython",
    "version": 3
   },
   "file_extension": ".py",
   "mimetype": "text/x-python",
   "name": "python",
   "nbconvert_exporter": "python",
   "pygments_lexer": "ipython3",
   "version": "3.9.7"
  }
 },
 "nbformat": 4,
 "nbformat_minor": 1
}