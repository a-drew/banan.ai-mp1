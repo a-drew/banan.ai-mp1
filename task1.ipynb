{
 "nbformat": 4,
 "nbformat_minor": 0,
 "metadata": {
  "colab": {
   "name": "task1.ipynb",
   "provenance": [],
   "collapsed_sections": [],
   "authorship_tag": "ABX9TyOM4FWTEFHATi4Q0tnMefGC",
   "include_colab_link": true
  },
  "kernelspec": {
   "name": "python3",
   "language": "python",
   "display_name": "Python 3 (ipykernel)"
  },
  "language_info": {
   "name": "python"
  }
 },
 "cells": [
  {
   "cell_type": "markdown",
   "metadata": {
    "id": "view-in-github",
    "colab_type": "text"
   },
   "source": [
    "<a href=\"https://colab.research.google.com/github/a-drew/banan.ai-mp1/blob/main/task1.ipynb\" target=\"_parent\"><img src=\"https://colab.research.google.com/assets/colab-badge.svg\" alt=\"Open In Colab\"/></a>"
   ]
  },
  {
   "cell_type": "markdown",
   "metadata": {
    "id": "UaS65pR1SaEY"
   },
   "source": [
    "## Import"
   ]
  },
  {
   "cell_type": "code",
   "metadata": {
    "id": "HKADUtcgGtiI"
   },
   "source": [
    "import numpy as np\n",
    "import matplotlib.pyplot as plt"
   ],
   "execution_count": 1,
   "outputs": []
  },
  {
   "cell_type": "markdown",
   "metadata": {
    "id": "PEDVj7E3SoRw"
   },
   "source": [
    "## Pre-Analysis"
   ]
  },
  {
   "cell_type": "code",
   "metadata": {
    "id": "8I_rWSPVSqQU",
    "outputId": "f2b55c28-bc85-4aac-a1a1-4caf4951dec9",
    "colab": {
     "base_uri": "https://localhost:8080/",
     "height": 265
    }
   },
   "source": [
    "mu, sigma = 200, 25\n",
    "x = mu + sigma*np.random.randn(10000)\n",
    "n, bins, patches = plt.hist(x)\n",
    "plt.show()"
   ],
   "execution_count": 2,
   "outputs": [
    {
     "output_type": "display_data",
     "data": {
      "image/png": "[encoded data removed]",
      "text/plain": [
       "<Figure size 432x288 with 1 Axes>"
      ]
     },
     "metadata": {
      "needs_background": "light"
     }
    }
   ]
  }
 ]
}