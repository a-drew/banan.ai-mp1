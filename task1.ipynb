{
 "cells": [
  {
   "cell_type": "markdown",
   "metadata": {
    "colab_type": "text",
    "id": "view-in-github"
   },
   "source": [
    "<a href=\"https://colab.research.google.com/github/a-drew/banan.ai-mp1/blob/main/task1.ipynb\" target=\"_parent\"><img src=\"https://colab.research.google.com/assets/colab-badge.svg\" alt=\"Open In Colab\"/></a>"
   ]
  },
  {
   "cell_type": "markdown",
   "metadata": {
    "id": "UaS65pR1SaEY"
   },
   "source": [
    "1. Starter Imports"
   ]
  },
  {
   "cell_type": "code",
   "execution_count": 1,
   "metadata": {
    "id": "HKADUtcgGtiI"
   },
   "outputs": [],
   "source": [
    "import os\n",
    "import pandas as pd\n",
    "import matplotlib.pyplot as plt\n",
    "import sklearn as skl\n",
    "from sklearn import *\n",
    "import numpy as np\n",
    "import logging\n",
    "import scipy.sparse as sp"
   ]
  },
  {
   "cell_type": "markdown",
   "metadata": {
    "id": "PEDVj7E3SoRw"
   },
   "source": [
    "2. Pre-Analysis"
   ]
  },
  {
   "cell_type": "code",
   "execution_count": 2,
   "metadata": {
    "pycharm": {
     "name": "#%%\n"
    }
   },
   "outputs": [
    {
     "name": "stdout",
     "output_type": "stream",
     "text": [
      "['business', 'entertainment', 'politics', 'sport', 'tech']\n",
      "[510, 386, 417, 511, 401]\n"
     ]
    },
    {
     "data": {
      "image/png": "[encoded data removed]",
      "text/plain": [
       "<Figure size 432x288 with 1 Axes>"
      ]
     },
     "metadata": {},
     "output_type": "display_data"
    }
   ],
   "source": [
    "categories = sorted([file for file in os.listdir('data/BBC') if file != 'README.TXT'])\n",
    "print(categories)\n",
    "counts = [len([name for name in os.listdir('data/BBC/' + category)]) for category in categories]\n",
    "print(counts)\n",
    "\n",
    "plt.pie(counts, labels=categories, autopct='%1.1f%%')\n",
    "plt.title('Class Distribution (by file count)')\n",
    "\n",
    "plt.savefig('output/BBC-distribution.pdf')\n",
    "plt.show()"
   ]
  },
  {
   "cell_type": "markdown",
   "metadata": {
    "pycharm": {
     "name": "#%% md\n"
    }
   },
   "source": [
    "3. Load the Dataset"
   ]
  },
  {
   "cell_type": "code",
   "execution_count": 3,
   "metadata": {
    "pycharm": {
     "name": "#%%\n"
    }
   },
   "outputs": [
    {
     "name": "stdout",
     "output_type": "stream",
     "text": [
      "dict_keys(['data', 'filenames', 'target_names', 'target', 'DESCR'])\n",
      "['business', 'entertainment', 'politics', 'sport', 'tech']\n",
      "[0 4 2 3 2]\n",
      "['data/BBC\\\\business\\\\385.txt' 'data/BBC\\\\tech\\\\160.txt'\n",
      " 'data/BBC\\\\politics\\\\090.txt' 'data/BBC\\\\sport\\\\074.txt'\n",
      " 'data/BBC\\\\politics\\\\399.txt']\n",
      "['Tate & Lyle boss bags top award\\r\\n\\r\\nTate & Lyle\\'s chief executive has been named European Businessman of the Year by a leading business magazine.\\r\\n\\r\\nIain Ferguson was awarded the title by US publication Forbes for returning one of the UK\\'s \"venerable\" manufacturers to the country\\'s top 100 companies. The sugar group had been absent from the FTSE 100 for seven years until Mr Ferguson helped it return to growth. Tate\\'s shares have leapt 55% this year, boosted by firming sugar prices and sales of its artificial sweeteners.\\r\\n\\r\\n\"After years of a sagging stock price and a seven-year hiatus from the FTSE 100, one of Britain\\'s venerable manufacturers has returned to the vaunted index,\" Forbes said. Mr Ferguson took the helm at the company in 2003, after spending most of his career at consumer goods giant Unilever. Tate & Lyle, which was an original member of the historic FT-30 index in 1935, operates more than 41 factories and 20 more additional production facilities in 28 countries. Previous winners of the Forbes award include Royal Bank of Scotland chief executive Fred Goodwin and former Vodafone boss Chris Gent.\\r\\n', \"Halo 2 sells five million copies\\r\\n\\r\\nMicrosoft is celebrating bumper sales of its Xbox sci-fi shooter, Halo 2.\\r\\n\\r\\nThe game has sold more than five million copies worldwide since it went on sale in mid-November, the company said. Halo 2 has proved popular online, with gamers notching up a record 28 million hours playing the game on Xbox Live. According to Microsoft, nine out of 10 Xbox Live members have played the game for an average of 91 minutes per session.\\r\\n\\r\\nThe sequel to the best-selling Need for Speed: Underground has inched ahead of the competition to take the top slot in the official UK games charts. The racing game moved up one spot to first place, nudging GTA: San Andreas down to second place. Halo 2 dropped one place to five, while Half-Life 2 fell to number nine. Last week's new releases, GoldenEye: Rogue Agent and Killzone, both failed to make it into the top 10, debuting at number 11 and 12 respectively.\\r\\n\\r\\nRecord numbers of Warcraft fans are settling in the games online world. On the opening day of the World of Warcraft massive multi-player online game more than 200,000 players signed up to play. On the evening of the first day more than 100,000 players were in the world, forcing Blizzard to add another 34 servers to cope with the influx. The online game turns the stand alone Warcraft games into a persistent world that players can inhabit not just visit\\r\\n\\r\\nEurope's gamers could be waiting until January to hear when they can get their mitts on Nintendo's handheld device, Nintendo DS, says gamesindustry.biz. David Yarnton, Nintendo UK general manager, told a press conference to look out for details in the New Year. Its US launch was on Sunday and it goes on sale in Japan on 2 December. Nintendo has a 95% share of the handheld gaming market and said it expected to sell around five million of the DS by March 2005.\\r\\n\", 'MSPs hear renewed climate warning\\r\\n\\r\\nClimate change could be completely out of control within several decades, the Scottish Environment Protection Agency is warning a committee of MSPs.\\r\\n\\r\\nExperts are giving evidence on the subject to the Scottish Parliament\\'s environment committee. Officials believe nuclear energy and wind farms may be better options than trying to tackle global warming. Solutions suggested by conservationists include reducing internal UK air travel and boosting electric trains. The evidence is part of the committee\\'s inquiry into the impact of climate change in Scotland. Sepa is attempting to curb global warming gases, as pollution from transport emissions increases.\\r\\n\\r\\nEcologists are warning MSPs that Scotland may have to accept \"significant intrusion\" from wind farms. It is likely also that nuclear power will be needed for possibly several decades. Sepa predict that the two methods will remain as energy sources until climate change is under control. Experts studying the seas off Scotland\\'s west coast have already forecast more devastating weather of the type which caused havoc across the country last month.\\r\\n\\r\\nThey predicted that damaging storms will become more frequent. Researchers from the University of the Highlands and Islands and Southampton have been looking at wave heights in the Atlantic over the last nine years. The project was conducted jointly by the Environmental Research Institute in Thurso, which is part of the University of the Highlands and Islands (UHI) Millennium Institute network, and the Southampton Oceanography Centre. Scientists carried out a series of studies, including the use of satellites to assess wave heights in the seas around the west coast and the Hebrides.\\r\\n', 'Pavey focuses on indoor success\\r\\n\\r\\nJo Pavey will miss January\\'s View From Great Edinburgh International Cross Country to focus on preparing for the European Indoor Championships in March.\\r\\n\\r\\nThe 31-year-old was third behind Hayley Yelling and Justyna Bak in last week\\'s European Cross Country Championships but she prefers to race on the track. \"It was great winning bronze but I\\'m wary of injuries and must concentrate on the indoor season,\" she said. \"Because of previous injuries I don\\'t even run up hills in training.\" Pavey, who came fifth in the 5,000m at the Athens Olympics, helped the British cross country team win the team silver medal in Heringsdorf last week. She is likely to start her 3,000m season with a race in either Boston or Stuttgart at the end of January.\\r\\n', 'Tories reject rethink on axed MP\\r\\n\\r\\nSacked MP Howard Flight\\'s local Conservative association has insisted he will not be its candidate at the general election.\\r\\n\\r\\nRussell Tanguay, agent for Arundel and South Downs Tories, said Mr Flight was ineligible to be a candidate and the association was seeking a substitute. The news comes despite Mr Flight\\'s allies saying they had enough support to hold a meeting to discuss his fate. Mr Flight landed in trouble over remarks on Tory tax and spending plans. He quit as Tory deputy chairman after apparently suggesting the Tories planned extra spending cuts - but he wants to continue as an MP.\\r\\n\\r\\nTory headquarters says he cannot stand as a Conservative candidate because he is no longer an approved candidate. Mr Tanguay backed that view on Tuesday, saying: \"Howard Flight is ineligible to stand as a Conservative Party candidate. \"The association is in the process of selecting a new candidate.\"\\r\\n\\r\\nBut the local Tory chairman made similar comments on Friday and dissent continues. Two local councillors who back Mr Flight met Mr Tanguay and the local association\\'s chairman in Arundel on Tuesday afternoon but did not comment as they left the meeting. Mr Flight says he will not stand down as a candidate unless his local party instructs him to do so at an extraordinary general meeting (EGM). The MP, who is consulting his lawyers, told BBC News: \"They selected me and they, if you like, dispose of me or keep me.\" Mr Flight\\'s supporters also say they have the 50 signatures needed to trigger the EGM.\\r\\n\\r\\nAt a news conference, Mr Howard insisted he had played by the party\\'s rules. The Tory leader, who argues he is ensuring honesty, said: \"We do not say one thing in private and another thing in public.\"\\r\\n\\r\\nLabour election campaign coordinator Alan Milburn said the Tories were in \"turmoil\" because Mr Flight had exposed their hidden plans. The comments were not a \"one-off\", he said, claiming Mr Howard and other senior Tories were obsessively committed to cutting public spending. Liberal Democrat chairman Matthew Taylor said: \"Whilst I disagree with Howard Flight\\'s views, it seems extraordinary to sack somebody for telling the truth.\"\\r\\n\\r\\nIt has also emerged Mr Howard has suspended Slough\\'s constituency Conservative association for refusing to deselect its candidate. Adrian Hilton was abandoned after suggesting the signing of the Maastricht Treaty, under John Major\\'s government, was an act of treason. The Catholic Herald also highlighted articles he wrote about the role of Catholicism in the European Union. Mr Hilton was chosen to fight the seat after the previous candidate, Robert Oulds, was sacked for being pictured with a range of guns and a hunting knife. Slough Conservative Association has now been placed on \"support status\" and is being run from Conservative campaign headquarters, says a senior party spokesman.\\r\\n\\r\\nMr Hilton on Tuesday said he was considering taking legal action against his deposal. He said the local party had only learned of the final decision on the BBC News website on Monday evening. \"There are people at Central Office who are behaving like little dictators and seemingly people who are ordinary members are being treated with contempt,\" he said. The party says it did try to contact the local Conservative chairman.\\r\\n']\n"
     ]
    }
   ],
   "source": [
    "dataset = skl.datasets.load_files('data/BBC', encoding=\"latin1\")\n",
    "\n",
    "print(dataset.keys())\n",
    "print(dataset.target_names)\n",
    "print(dataset.target[0:5])\n",
    "print(dataset.filenames[0:5])\n",
    "print(dataset.data[0:5])"
   ]
  },
  {
   "cell_type": "markdown",
   "metadata": {
    "pycharm": {
     "name": "#%% md\n"
    }
   },
   "source": [
    "4. Preprocess"
   ]
  },
  {
   "cell_type": "code",
   "execution_count": 4,
   "metadata": {
    "pycharm": {
     "name": "#%%\n"
    }
   },
   "outputs": [
    {
     "data": {
      "text/html": [
       "<div>\n",
       "<style scoped>\n",
       "    .dataframe tbody tr th:only-of-type {\n",
       "        vertical-align: middle;\n",
       "    }\n",
       "\n",
       "    .dataframe tbody tr th {\n",
       "        vertical-align: top;\n",
       "    }\n",
       "\n",
       "    .dataframe thead th {\n",
       "        text-align: right;\n",
       "    }\n",
       "</style>\n",
       "<table border=\"1\" class=\"dataframe\">\n",
       "  <thead>\n",
       "    <tr style=\"text-align: right;\">\n",
       "      <th></th>\n",
       "      <th>00</th>\n",
       "      <th>000</th>\n",
       "      <th>0001</th>\n",
       "      <th>000bn</th>\n",
       "      <th>000m</th>\n",
       "      <th>000s</th>\n",
       "      <th>000th</th>\n",
       "      <th>001</th>\n",
       "      <th>001and</th>\n",
       "      <th>001st</th>\n",
       "      <th>...</th>\n",
       "      <th>zooms</th>\n",
       "      <th>zooropa</th>\n",
       "      <th>zornotza</th>\n",
       "      <th>zorro</th>\n",
       "      <th>zubair</th>\n",
       "      <th>zuluaga</th>\n",
       "      <th>zurich</th>\n",
       "      <th>zutons</th>\n",
       "      <th>zvonareva</th>\n",
       "      <th>zvyagintsev</th>\n",
       "    </tr>\n",
       "  </thead>\n",
       "  <tbody>\n",
       "    <tr>\n",
       "      <th>0</th>\n",
       "      <td>0</td>\n",
       "      <td>0</td>\n",
       "      <td>0</td>\n",
       "      <td>0</td>\n",
       "      <td>0</td>\n",
       "      <td>0</td>\n",
       "      <td>0</td>\n",
       "      <td>0</td>\n",
       "      <td>0</td>\n",
       "      <td>0</td>\n",
       "      <td>...</td>\n",
       "      <td>0</td>\n",
       "      <td>0</td>\n",
       "      <td>0</td>\n",
       "      <td>0</td>\n",
       "      <td>0</td>\n",
       "      <td>0</td>\n",
       "      <td>0</td>\n",
       "      <td>0</td>\n",
       "      <td>0</td>\n",
       "      <td>0</td>\n",
       "    </tr>\n",
       "    <tr>\n",
       "      <th>1</th>\n",
       "      <td>0</td>\n",
       "      <td>2</td>\n",
       "      <td>0</td>\n",
       "      <td>0</td>\n",
       "      <td>0</td>\n",
       "      <td>0</td>\n",
       "      <td>0</td>\n",
       "      <td>0</td>\n",
       "      <td>0</td>\n",
       "      <td>0</td>\n",
       "      <td>...</td>\n",
       "      <td>0</td>\n",
       "      <td>0</td>\n",
       "      <td>0</td>\n",
       "      <td>0</td>\n",
       "      <td>0</td>\n",
       "      <td>0</td>\n",
       "      <td>0</td>\n",
       "      <td>0</td>\n",
       "      <td>0</td>\n",
       "      <td>0</td>\n",
       "    </tr>\n",
       "    <tr>\n",
       "      <th>2</th>\n",
       "      <td>0</td>\n",
       "      <td>0</td>\n",
       "      <td>0</td>\n",
       "      <td>0</td>\n",
       "      <td>0</td>\n",
       "      <td>0</td>\n",
       "      <td>0</td>\n",
       "      <td>0</td>\n",
       "      <td>0</td>\n",
       "      <td>0</td>\n",
       "      <td>...</td>\n",
       "      <td>0</td>\n",
       "      <td>0</td>\n",
       "      <td>0</td>\n",
       "      <td>0</td>\n",
       "      <td>0</td>\n",
       "      <td>0</td>\n",
       "      <td>0</td>\n",
       "      <td>0</td>\n",
       "      <td>0</td>\n",
       "      <td>0</td>\n",
       "    </tr>\n",
       "    <tr>\n",
       "      <th>3</th>\n",
       "      <td>0</td>\n",
       "      <td>0</td>\n",
       "      <td>0</td>\n",
       "      <td>0</td>\n",
       "      <td>2</td>\n",
       "      <td>0</td>\n",
       "      <td>0</td>\n",
       "      <td>0</td>\n",
       "      <td>0</td>\n",
       "      <td>0</td>\n",
       "      <td>...</td>\n",
       "      <td>0</td>\n",
       "      <td>0</td>\n",
       "      <td>0</td>\n",
       "      <td>0</td>\n",
       "      <td>0</td>\n",
       "      <td>0</td>\n",
       "      <td>0</td>\n",
       "      <td>0</td>\n",
       "      <td>0</td>\n",
       "      <td>0</td>\n",
       "    </tr>\n",
       "    <tr>\n",
       "      <th>4</th>\n",
       "      <td>0</td>\n",
       "      <td>0</td>\n",
       "      <td>0</td>\n",
       "      <td>0</td>\n",
       "      <td>0</td>\n",
       "      <td>0</td>\n",
       "      <td>0</td>\n",
       "      <td>0</td>\n",
       "      <td>0</td>\n",
       "      <td>0</td>\n",
       "      <td>...</td>\n",
       "      <td>0</td>\n",
       "      <td>0</td>\n",
       "      <td>0</td>\n",
       "      <td>0</td>\n",
       "      <td>0</td>\n",
       "      <td>0</td>\n",
       "      <td>0</td>\n",
       "      <td>0</td>\n",
       "      <td>0</td>\n",
       "      <td>0</td>\n",
       "    </tr>\n",
       "    <tr>\n",
       "      <th>...</th>\n",
       "      <td>...</td>\n",
       "      <td>...</td>\n",
       "      <td>...</td>\n",
       "      <td>...</td>\n",
       "      <td>...</td>\n",
       "      <td>...</td>\n",
       "      <td>...</td>\n",
       "      <td>...</td>\n",
       "      <td>...</td>\n",
       "      <td>...</td>\n",
       "      <td>...</td>\n",
       "      <td>...</td>\n",
       "      <td>...</td>\n",
       "      <td>...</td>\n",
       "      <td>...</td>\n",
       "      <td>...</td>\n",
       "      <td>...</td>\n",
       "      <td>...</td>\n",
       "      <td>...</td>\n",
       "      <td>...</td>\n",
       "      <td>...</td>\n",
       "    </tr>\n",
       "    <tr>\n",
       "      <th>2220</th>\n",
       "      <td>0</td>\n",
       "      <td>0</td>\n",
       "      <td>0</td>\n",
       "      <td>0</td>\n",
       "      <td>0</td>\n",
       "      <td>0</td>\n",
       "      <td>0</td>\n",
       "      <td>0</td>\n",
       "      <td>0</td>\n",
       "      <td>0</td>\n",
       "      <td>...</td>\n",
       "      <td>0</td>\n",
       "      <td>0</td>\n",
       "      <td>0</td>\n",
       "      <td>0</td>\n",
       "      <td>0</td>\n",
       "      <td>0</td>\n",
       "      <td>0</td>\n",
       "      <td>0</td>\n",
       "      <td>0</td>\n",
       "      <td>0</td>\n",
       "    </tr>\n",
       "    <tr>\n",
       "      <th>2221</th>\n",
       "      <td>0</td>\n",
       "      <td>0</td>\n",
       "      <td>0</td>\n",
       "      <td>0</td>\n",
       "      <td>0</td>\n",
       "      <td>0</td>\n",
       "      <td>0</td>\n",
       "      <td>0</td>\n",
       "      <td>0</td>\n",
       "      <td>0</td>\n",
       "      <td>...</td>\n",
       "      <td>0</td>\n",
       "      <td>0</td>\n",
       "      <td>0</td>\n",
       "      <td>0</td>\n",
       "      <td>0</td>\n",
       "      <td>0</td>\n",
       "      <td>0</td>\n",
       "      <td>0</td>\n",
       "      <td>0</td>\n",
       "      <td>0</td>\n",
       "    </tr>\n",
       "    <tr>\n",
       "      <th>2222</th>\n",
       "      <td>0</td>\n",
       "      <td>0</td>\n",
       "      <td>0</td>\n",
       "      <td>0</td>\n",
       "      <td>0</td>\n",
       "      <td>0</td>\n",
       "      <td>0</td>\n",
       "      <td>0</td>\n",
       "      <td>0</td>\n",
       "      <td>0</td>\n",
       "      <td>...</td>\n",
       "      <td>0</td>\n",
       "      <td>0</td>\n",
       "      <td>0</td>\n",
       "      <td>0</td>\n",
       "      <td>0</td>\n",
       "      <td>0</td>\n",
       "      <td>0</td>\n",
       "      <td>0</td>\n",
       "      <td>0</td>\n",
       "      <td>0</td>\n",
       "    </tr>\n",
       "    <tr>\n",
       "      <th>2223</th>\n",
       "      <td>0</td>\n",
       "      <td>0</td>\n",
       "      <td>0</td>\n",
       "      <td>0</td>\n",
       "      <td>0</td>\n",
       "      <td>0</td>\n",
       "      <td>0</td>\n",
       "      <td>0</td>\n",
       "      <td>0</td>\n",
       "      <td>0</td>\n",
       "      <td>...</td>\n",
       "      <td>0</td>\n",
       "      <td>0</td>\n",
       "      <td>0</td>\n",
       "      <td>0</td>\n",
       "      <td>0</td>\n",
       "      <td>0</td>\n",
       "      <td>0</td>\n",
       "      <td>0</td>\n",
       "      <td>0</td>\n",
       "      <td>0</td>\n",
       "    </tr>\n",
       "    <tr>\n",
       "      <th>2224</th>\n",
       "      <td>0</td>\n",
       "      <td>0</td>\n",
       "      <td>0</td>\n",
       "      <td>0</td>\n",
       "      <td>0</td>\n",
       "      <td>0</td>\n",
       "      <td>0</td>\n",
       "      <td>0</td>\n",
       "      <td>0</td>\n",
       "      <td>0</td>\n",
       "      <td>...</td>\n",
       "      <td>0</td>\n",
       "      <td>0</td>\n",
       "      <td>0</td>\n",
       "      <td>0</td>\n",
       "      <td>0</td>\n",
       "      <td>0</td>\n",
       "      <td>0</td>\n",
       "      <td>0</td>\n",
       "      <td>0</td>\n",
       "      <td>0</td>\n",
       "    </tr>\n",
       "  </tbody>\n",
       "</table>\n",
       "<p>2225 rows × 29421 columns</p>\n",
       "</div>"
      ],
      "text/plain": [
       "      00  000  0001  000bn  000m  000s  000th  001  001and  001st  ...  zooms  \\\n",
       "0      0    0     0      0     0     0      0    0       0      0  ...      0   \n",
       "1      0    2     0      0     0     0      0    0       0      0  ...      0   \n",
       "2      0    0     0      0     0     0      0    0       0      0  ...      0   \n",
       "3      0    0     0      0     2     0      0    0       0      0  ...      0   \n",
       "4      0    0     0      0     0     0      0    0       0      0  ...      0   \n",
       "...   ..  ...   ...    ...   ...   ...    ...  ...     ...    ...  ...    ...   \n",
       "2220   0    0     0      0     0     0      0    0       0      0  ...      0   \n",
       "2221   0    0     0      0     0     0      0    0       0      0  ...      0   \n",
       "2222   0    0     0      0     0     0      0    0       0      0  ...      0   \n",
       "2223   0    0     0      0     0     0      0    0       0      0  ...      0   \n",
       "2224   0    0     0      0     0     0      0    0       0      0  ...      0   \n",
       "\n",
       "      zooropa  zornotza  zorro  zubair  zuluaga  zurich  zutons  zvonareva  \\\n",
       "0           0         0      0       0        0       0       0          0   \n",
       "1           0         0      0       0        0       0       0          0   \n",
       "2           0         0      0       0        0       0       0          0   \n",
       "3           0         0      0       0        0       0       0          0   \n",
       "4           0         0      0       0        0       0       0          0   \n",
       "...       ...       ...    ...     ...      ...     ...     ...        ...   \n",
       "2220        0         0      0       0        0       0       0          0   \n",
       "2221        0         0      0       0        0       0       0          0   \n",
       "2222        0         0      0       0        0       0       0          0   \n",
       "2223        0         0      0       0        0       0       0          0   \n",
       "2224        0         0      0       0        0       0       0          0   \n",
       "\n",
       "      zvyagintsev  \n",
       "0               0  \n",
       "1               0  \n",
       "2               0  \n",
       "3               0  \n",
       "4               0  \n",
       "...           ...  \n",
       "2220            0  \n",
       "2221            0  \n",
       "2222            0  \n",
       "2223            0  \n",
       "2224            0  \n",
       "\n",
       "[2225 rows x 29421 columns]"
      ]
     },
     "execution_count": 4,
     "metadata": {},
     "output_type": "execute_result"
    }
   ],
   "source": [
    "from sklearn.feature_extraction.text import CountVectorizer\n",
    "vec = CountVectorizer()\n",
    "x_word_counts = vec.fit_transform(dataset.data)\n",
    "#print(x_word_counts)\n",
    "#print(vec.get_feature_names_out())\n",
    "\n",
    "pd.DataFrame(data=x_word_counts.toarray(),columns=vec.get_feature_names_out())"
   ]
  },
  {
   "cell_type": "markdown",
   "metadata": {
    "pycharm": {
     "name": "#%% md\n"
    }
   },
   "source": [
    "5. Split Training / Test Data"
   ]
  },
  {
   "cell_type": "code",
   "execution_count": 5,
   "metadata": {
    "pycharm": {
     "name": "#%%\n"
    }
   },
   "outputs": [
    {
     "name": "stdout",
     "output_type": "stream",
     "text": [
      "  (0, 12684)\t1\n",
      "  (0, 18726)\t9\n",
      "  (0, 26462)\t26\n",
      "  (0, 4980)\t1\n",
      "  (0, 28521)\t4\n",
      "  (0, 26718)\t1\n",
      "  (0, 27901)\t1\n",
      "  (0, 11102)\t16\n",
      "  (0, 18837)\t1\n",
      "  (0, 26730)\t23\n",
      "  (0, 12452)\t2\n",
      "  (0, 17855)\t5\n",
      "  (0, 14557)\t4\n",
      "  (0, 12726)\t1\n",
      "  (0, 26531)\t5\n",
      "  (0, 2429)\t10\n",
      "  (0, 14571)\t1\n",
      "  (0, 23041)\t7\n",
      "  (0, 26792)\t2\n",
      "  (0, 2994)\t4\n",
      "  (0, 13801)\t6\n",
      "  (0, 13073)\t2\n",
      "  (0, 2395)\t1\n",
      "  (0, 467)\t1\n",
      "  (0, 17372)\t1\n",
      "  :\t:\n",
      "  (1779, 18059)\t1\n",
      "  (1779, 4831)\t2\n",
      "  (1779, 2111)\t2\n",
      "  (1779, 4830)\t2\n",
      "  (1779, 5337)\t1\n",
      "  (1779, 3369)\t2\n",
      "  (1779, 16391)\t3\n",
      "  (1779, 19723)\t1\n",
      "  (1779, 2112)\t3\n",
      "  (1779, 16392)\t1\n",
      "  (1779, 2316)\t2\n",
      "  (1779, 1403)\t1\n",
      "  (1779, 4883)\t1\n",
      "  (1779, 28301)\t1\n",
      "  (1779, 6512)\t1\n",
      "  (1779, 3370)\t1\n",
      "  (1779, 10515)\t1\n",
      "  (1779, 18897)\t1\n",
      "  (1779, 10162)\t1\n",
      "  (1779, 5732)\t1\n",
      "  (1779, 10313)\t1\n",
      "  (1779, 17563)\t1\n",
      "  (1779, 4393)\t1\n",
      "  (1779, 7597)\t1\n",
      "  (1779, 25374)\t1\n",
      "[4 4 0 ... 1 1 0]\n"
     ]
    }
   ],
   "source": [
    "x_train, x_test, y_train, y_test = skl.model_selection.train_test_split(x_word_counts, dataset.target, train_size=0.8, random_state=None)\n",
    "\n",
    "print(x_train)\n",
    "print(y_train)"
   ]
  },
  {
   "cell_type": "markdown",
   "metadata": {},
   "source": [
    "6. Train Naive Bayes Classifier"
   ]
  },
  {
   "cell_type": "code",
   "execution_count": 6,
   "metadata": {
    "pycharm": {
     "name": "#%%\n"
    }
   },
   "outputs": [],
   "source": [
    "nb = skl.naive_bayes.MultinomialNB()\n",
    "#Train the model using the training sets\n",
    "nb.fit(x_train, y_train)\n",
    "#Predict the response for test dataset\n",
    "y_pred = nb.predict(x_test)"
   ]
  },
  {
   "cell_type": "markdown",
   "metadata": {
    "pycharm": {
     "name": "#%% md\n"
    }
   },
   "source": [
    "7. Performance Metrics\n",
    " - [x] a clear separator (a sequence of hyphens or stars) and string clearly describing the model (e.g. “Multi- nomialNB default values, try 1”)\n",
    " - [x] the confusion matrix (you can use confusion matrix)\n",
    " - [x] the precision, recall, and F1-measure for each class (you can use classification report)\n",
    " - [x] the accuracy, macro-average F1 and weighted-average F1 of the model (you can use accuracy score and f1 score)\n",
    " - [x] the prior probability of each class\n",
    " - [x] the size of the vocabulary (i.e. the number of different words1)\n",
    " - [x] the number of word-tokens in each class (i.e. the number of words in total2)\n",
    " - [x] the number of word-tokens in the entire corpus\n",
    " - [x] the number and percentage of words with a frequency of zero in each class\n",
    " - [x] the number and percentage of words with a frequency of one in the entire corpus\n",
    " - [x] your 2 favorite words (that are present in the vocabulary) and their log-prob"
   ]
  },
  {
   "cell_type": "code",
   "execution_count": 7,
   "metadata": {
    "pycharm": {
     "name": "#%%\n"
    }
   },
   "outputs": [],
   "source": [
    "#counts_train = [np.count_nonzero(y_train == k) for k, v in enumerate(dataset.target_names)]\n",
    "priors = { cat: np.count_nonzero(y_train == i)/len(y_train) for i, cat in enumerate(dataset.target_names) }"
   ]
  },
  {
   "cell_type": "code",
   "execution_count": 8,
   "metadata": {
    "pycharm": {
     "name": "#%%\n"
    }
   },
   "outputs": [],
   "source": [
    "if os.path.exists('output/bbc-performance.txt'):\n",
    "    os.remove('output/bbc-performance.txt')\n",
    "\n",
    "logging.basicConfig(level=logging.INFO, format='%(message)s')\n",
    "logger = logging.getLogger()\n",
    "logger.addHandler(logging.FileHandler('output/bbc-performance.txt', 'w'))"
   ]
  },
  {
   "cell_type": "code",
   "execution_count": 9,
   "metadata": {
    "pycharm": {
     "name": "#%%\n"
    }
   },
   "outputs": [
    {
     "name": "stderr",
     "output_type": "stream",
     "text": [
      "===================\n",
      " Naive Bayes Try 1\n",
      "===================\n",
      "\n",
      "(b) confusion_matrix:\n",
      "[[101   0   4   0   3]\n",
      " [  0  78   1   0   1]\n",
      " [  0   0  78   0   0]\n",
      " [  0   0   0 106   0]\n",
      " [  0   0   0   0  73]]\n",
      "\n",
      "(c/d) classification_report: \n",
      "               precision    recall  f1-score   support\n",
      "\n",
      "     business       1.00      0.94      0.97       108\n",
      "entertainment       1.00      0.97      0.99        80\n",
      "     politics       0.94      1.00      0.97        78\n",
      "        sport       1.00      1.00      1.00       106\n",
      "         tech       0.95      1.00      0.97        73\n",
      "\n",
      "     accuracy                           0.98       445\n",
      "    macro avg       0.98      0.98      0.98       445\n",
      " weighted avg       0.98      0.98      0.98       445\n",
      "\n",
      "\n",
      "(e) prior probability of each class: \n",
      "{'business': 0.2258426966292135, 'entertainment': 0.17191011235955056, 'politics': 0.1904494382022472, 'sport': 0.22752808988764045, 'tech': 0.1842696629213483}\n",
      "\n",
      "(f) vocabulary size: 29421\n",
      "\n",
      "(g) word-tokens in each class: \n",
      "\n",
      "(h) word-tokens in the entire corpus: \n",
      "\n",
      "(i) the number and percentage of words with a frequency of zero in each class: \n",
      "\n",
      "(j) the number and percentage of words with a frequency of one in the entire corpus: \n",
      "\n",
      "(k) your 2 favorite words (that are present in the vocabulary) and their log-prob: \n",
      "\n",
      "\n"
     ]
    },
    {
     "name": "stdout",
     "output_type": "stream",
     "text": [
      "word_freq_dicts[0] ( business) word token count -->  34624\n",
      "\n",
      "\n",
      "-------------------------------------------------\n",
      "\n",
      "\n",
      "word_freq_dicts[1] ( entertainment) word token count -->  25613\n",
      "\n",
      "\n",
      "-------------------------------------------------\n",
      "\n",
      "\n",
      "word_freq_dicts[2] ( politics) word token count -->  35046\n",
      "\n",
      "\n",
      "-------------------------------------------------\n",
      "\n",
      "\n",
      "word_freq_dicts[3] ( sport) word token count -->  33121\n",
      "\n",
      "\n",
      "-------------------------------------------------\n",
      "\n",
      "\n",
      "word_freq_dicts[4] ( tech) word token count -->  35299\n",
      "\n",
      "\n",
      "-------------------------------------------------\n",
      "\n",
      "\n",
      "running_sum of word tokens in entire corpus 836357\n",
      "current_category business\n",
      "total 0 frequency words: 24223\n",
      "corresponding percentage: 82.33234764284015%\n",
      "current_category entertainment\n",
      "total 0 frequency words: 24436\n",
      "corresponding percentage: 83.05632031542096%\n",
      "current_category politics\n",
      "total 0 frequency words: 24345\n",
      "corresponding percentage: 82.74701743652493%\n",
      "current_category sport\n",
      "total 0 frequency words: 24449\n",
      "corresponding percentage: 83.10050644097753%\n",
      "current_category tech\n",
      "total 0 frequency words: 24246\n",
      "corresponding percentage: 82.41052309574793%\n",
      "total one frequency words: 24932\n",
      "percentage of one frequency words: 2.981023653774644%\n",
      "\n",
      "\n",
      "FAVORITE WORDS: the and abdullah\n",
      "case: the\n",
      "log_prob_hefty: 3.2340854121957364e-05\n",
      "case: abdullah\n",
      "log_prob_abdullah: 2.31006100871124e-06\n"
     ]
    }
   ],
   "source": [
    "nb_runs = 1 # try counter\n",
    "\n",
    "def performance_report(test, pred):\n",
    "    print = logger.info\n",
    "    \n",
    "    global nb_runs\n",
    "    print('===================')\n",
    "    print(' Naive Bayes Try ' + str(nb_runs))\n",
    "    print('===================')\n",
    "    nb_runs+=1\n",
    "\n",
    "    print('\\n(b) confusion_matrix:')\n",
    "    print(skl.metrics.confusion_matrix(test, pred))\n",
    "    print(\"\\n(c/d) classification_report: \")\n",
    "    print(skl.metrics.classification_report(test, pred, target_names=dataset.target_names))\n",
    "\n",
    "    #print(\"\\n(d) accuracy_score: \")\n",
    "    #print(metrics.accuracy_score(test, pred))\n",
    "    #print(\"\\n(d) f1_score (macro avg): \")\n",
    "    #print(metrics.f1_score(test, pred, average='macro'))\n",
    "    #print(\"\\n(d) f1_score (weighted avg): \")\n",
    "    #print(metrics.f1_score(test, pred, average='weighted'))\n",
    "\n",
    "    print(\"\\n(e) prior probability of each class: \")\n",
    "    print(priors)\n",
    "    print(\"\\n(f) vocabulary size: \" + str(len(vec.get_feature_names_out())))\n",
    "    #LEFT TODO:\n",
    "    print(\"\\n(g) word-tokens in each class: \")\n",
    "    print(\"\\n(h) word-tokens in the entire corpus: \")# + np.add.reduce(x_word_counts.toarray()))\n",
    "    print(\"\\n(i) the number and percentage of words with a frequency of zero in each class: \")\n",
    "    print(\"\\n(j) the number and percentage of words with a frequency of one in the entire corpus: \")\n",
    "    print(\"\\n(k) your 2 favorite words (that are present in the vocabulary) and their log-prob: \")\n",
    "    # something with nb.feature_log_prob_ ? find word index, look up log-prob in feature_log_prob_, not sure what to do about the 5 diff rows\n",
    "\n",
    "    print(\"\\n\")\n",
    "\n",
    "performance_report(y_test, y_pred)\n",
    "\n",
    "inverted_vocab = dict(zip(vec.vocabulary_.values(), vec.vocabulary_.keys()))\n",
    "\n",
    "# word frequency for test data\n",
    "word_freq_dicts = [{}, {}, {}, {}, {}] # per category\n",
    "word_freq_sums = [0, 0, 0, 0, 0]\n",
    "ctr = 0\n",
    "\n",
    "for x in x_test:\n",
    "    category = y_test[ctr]\n",
    "    current_dict = word_freq_dicts[category]\n",
    "    current_sum = word_freq_sums[category]\n",
    "    x_test_snippet = dict(zip(x[0].indices, x[0].data))\n",
    "\n",
    "    for i in x_test_snippet:\n",
    "        occurance = x_test_snippet[i]\n",
    "        word = inverted_vocab[i]\n",
    "        current_dict[word] = occurance\n",
    "        current_sum += occurance\n",
    "        word_freq_sums[category] = current_sum\n",
    "\n",
    "    ctr += 1\n",
    "\n",
    "for i in range(len(word_freq_dicts)):\n",
    "    #print('word_freq_dicts[' + str(i) + '] ( ' + dataset.target_names[i] + ')', word_freq_dicts[i])\n",
    "    print('word_freq_dicts[' + str(i) + '] ( ' + dataset.target_names[i] + ') word token count --> ', word_freq_sums[i])\n",
    "    print('\\n\\n-------------------------------------------------\\n\\n')\n",
    "\n",
    "# word frequency for test + training data\n",
    "\n",
    "word_freq_map_all = {}\n",
    "x_merged_sets = sp.vstack((x_test, x_train))\n",
    "\n",
    "total_corpus_sum = 0\n",
    "\n",
    "for x in x_merged_sets:\n",
    "    x_test_snippet = dict(zip(x[0].indices, x[0].data))\n",
    "    for i in x_test_snippet:\n",
    "        occurance = x_test_snippet[i]\n",
    "        word = inverted_vocab[i]\n",
    "        word_freq_map_all[word] = occurance\n",
    "        total_corpus_sum += occurance\n",
    "\n",
    "print('running_sum of word tokens in entire corpus', total_corpus_sum)\n",
    "\n",
    "# frequency of zero per category\n",
    "i = 0\n",
    "total_vocab_words = len(vec.vocabulary_.keys())\n",
    "\n",
    "for current_dict in word_freq_dicts:\n",
    "    current_category = dataset.target_names[i]\n",
    "    print('current_category', current_category)\n",
    "    category_words_set = set(current_dict.keys())\n",
    "    vocab_words_set = set(vec.vocabulary_.keys())\n",
    "    set_diff_result = vocab_words_set.difference(category_words_set)\n",
    "    total_zero_freq_words = len(set_diff_result)\n",
    "    print('total 0 frequency words:', total_zero_freq_words)\n",
    "    print('corresponding percentage: ' + str(100 * (total_zero_freq_words/total_vocab_words)) + '%')\n",
    "    i += 1\n",
    "\n",
    "# frequency of one for entire corpus\n",
    "\n",
    "freq_one_sum = 0\n",
    "for entry in word_freq_map_all:\n",
    "    if word_freq_map_all[entry] == 1:\n",
    "        freq_one_sum += 1\n",
    "\n",
    "print('total one frequency words: ' + str(freq_one_sum))\n",
    "print('percentage of one frequency words: ' + str(100 * freq_one_sum/total_corpus_sum) + '%')\n",
    "#print('word_freq_map_all', word_freq_map_all)\n",
    "\n",
    "# 2 fav words: the, abdullah\n",
    "# compute log frequency\n",
    "# formula: (N_yi + alpha)/(N_y + alpha * n)\n",
    "# where\n",
    "# N_yi --> # occurance of \"favorite\" word\n",
    "# N_y --> total amount of words\n",
    "# alpha --> 1, default value as per sklearn\n",
    "# n --> size of vocabulary\n",
    "print('\\n\\nFAVORITE WORDS: the and abdullah')\n",
    "print('case: the')\n",
    "N_yi = word_freq_map_all['the']\n",
    "N_y = total_corpus_sum\n",
    "alpha = 1\n",
    "n = len(word_freq_map_all)\n",
    "log_prob_hefty = (N_yi + alpha)/(N_y + alpha * n)\n",
    "print('log_prob_hefty: ' + str(log_prob_hefty))\n",
    "\n",
    "print('case: abdullah')\n",
    "N_yi = word_freq_map_all['abdullah']\n",
    "log_prob_abdullah = (N_yi + alpha)/(N_y + alpha * n)\n",
    "print('log_prob_abdullah: ' + str(log_prob_abdullah))\n"
   ]
  },
  {
   "cell_type": "markdown",
   "metadata": {
    "pycharm": {
     "name": "#%% md\n"
    }
   },
   "source": [
    "8. Naive Bayes, Try 2"
   ]
  },
  {
   "cell_type": "code",
   "execution_count": 10,
   "metadata": {
    "pycharm": {
     "name": "#%%\n"
    }
   },
   "outputs": [
    {
     "name": "stderr",
     "output_type": "stream",
     "text": [
      "===================\n",
      " Naive Bayes Try 2\n",
      "===================\n",
      "\n",
      "(b) confusion_matrix:\n",
      "[[101   0   4   0   3]\n",
      " [  0  78   1   0   1]\n",
      " [  0   0  78   0   0]\n",
      " [  0   0   0 106   0]\n",
      " [  0   0   0   0  73]]\n",
      "\n",
      "(c/d) classification_report: \n",
      "               precision    recall  f1-score   support\n",
      "\n",
      "     business       1.00      0.94      0.97       108\n",
      "entertainment       1.00      0.97      0.99        80\n",
      "     politics       0.94      1.00      0.97        78\n",
      "        sport       1.00      1.00      1.00       106\n",
      "         tech       0.95      1.00      0.97        73\n",
      "\n",
      "     accuracy                           0.98       445\n",
      "    macro avg       0.98      0.98      0.98       445\n",
      " weighted avg       0.98      0.98      0.98       445\n",
      "\n",
      "\n",
      "(e) prior probability of each class: \n",
      "{'business': 0.2258426966292135, 'entertainment': 0.17191011235955056, 'politics': 0.1904494382022472, 'sport': 0.22752808988764045, 'tech': 0.1842696629213483}\n",
      "\n",
      "(f) vocabulary size: 29421\n",
      "\n",
      "(g) word-tokens in each class: \n",
      "\n",
      "(h) word-tokens in the entire corpus: \n",
      "\n",
      "(i) the number and percentage of words with a frequency of zero in each class: \n",
      "\n",
      "(j) the number and percentage of words with a frequency of one in the entire corpus: \n",
      "\n",
      "(k) your 2 favorite words (that are present in the vocabulary) and their log-prob: \n",
      "\n",
      "\n"
     ]
    }
   ],
   "source": [
    "nb2 = skl.naive_bayes.MultinomialNB()\n",
    "nb2.fit(x_train, y_train)\n",
    "\n",
    "performance_report(y_test, nb2.predict(x_test))"
   ]
  },
  {
   "cell_type": "markdown",
   "metadata": {},
   "source": [
    "9. Naive Bayes, Try 3"
   ]
  },
  {
   "cell_type": "code",
   "execution_count": 11,
   "metadata": {
    "pycharm": {
     "name": "#%%\n"
    }
   },
   "outputs": [
    {
     "name": "stderr",
     "output_type": "stream",
     "text": [
      "===================\n",
      " Naive Bayes Try 3\n",
      "===================\n",
      "\n",
      "(b) confusion_matrix:\n",
      "[[103   0   2   0   3]\n",
      " [  0  80   0   0   0]\n",
      " [  1   0  77   0   0]\n",
      " [  0   0   1 105   0]\n",
      " [  0   0   0   0  73]]\n",
      "\n",
      "(c/d) classification_report: \n",
      "               precision    recall  f1-score   support\n",
      "\n",
      "     business       0.99      0.95      0.97       108\n",
      "entertainment       1.00      1.00      1.00        80\n",
      "     politics       0.96      0.99      0.97        78\n",
      "        sport       1.00      0.99      1.00       106\n",
      "         tech       0.96      1.00      0.98        73\n",
      "\n",
      "     accuracy                           0.98       445\n",
      "    macro avg       0.98      0.99      0.98       445\n",
      " weighted avg       0.98      0.98      0.98       445\n",
      "\n",
      "\n",
      "(e) prior probability of each class: \n",
      "{'business': 0.2258426966292135, 'entertainment': 0.17191011235955056, 'politics': 0.1904494382022472, 'sport': 0.22752808988764045, 'tech': 0.1842696629213483}\n",
      "\n",
      "(f) vocabulary size: 29421\n",
      "\n",
      "(g) word-tokens in each class: \n",
      "\n",
      "(h) word-tokens in the entire corpus: \n",
      "\n",
      "(i) the number and percentage of words with a frequency of zero in each class: \n",
      "\n",
      "(j) the number and percentage of words with a frequency of one in the entire corpus: \n",
      "\n",
      "(k) your 2 favorite words (that are present in the vocabulary) and their log-prob: \n",
      "\n",
      "\n"
     ]
    }
   ],
   "source": [
    "nb3 = skl.naive_bayes.MultinomialNB(alpha=0.0001)\n",
    "nb3.fit(x_train, y_train)\n",
    "\n",
    "performance_report(y_test, nb3.predict(x_test))"
   ]
  },
  {
   "cell_type": "markdown",
   "metadata": {},
   "source": [
    "10. Naive Bayes, Try 4"
   ]
  },
  {
   "cell_type": "code",
   "execution_count": 12,
   "metadata": {
    "pycharm": {
     "name": "#%%\n"
    },
    "scrolled": true
   },
   "outputs": [
    {
     "name": "stderr",
     "output_type": "stream",
     "text": [
      "===================\n",
      " Naive Bayes Try 4\n",
      "===================\n",
      "\n",
      "(b) confusion_matrix:\n",
      "[[101   0   4   0   3]\n",
      " [  0  79   0   0   1]\n",
      " [  0   0  78   0   0]\n",
      " [  0   0   0 106   0]\n",
      " [  0   0   0   0  73]]\n",
      "\n",
      "(c/d) classification_report: \n",
      "               precision    recall  f1-score   support\n",
      "\n",
      "     business       1.00      0.94      0.97       108\n",
      "entertainment       1.00      0.99      0.99        80\n",
      "     politics       0.95      1.00      0.97        78\n",
      "        sport       1.00      1.00      1.00       106\n",
      "         tech       0.95      1.00      0.97        73\n",
      "\n",
      "     accuracy                           0.98       445\n",
      "    macro avg       0.98      0.98      0.98       445\n",
      " weighted avg       0.98      0.98      0.98       445\n",
      "\n",
      "\n",
      "(e) prior probability of each class: \n",
      "{'business': 0.2258426966292135, 'entertainment': 0.17191011235955056, 'politics': 0.1904494382022472, 'sport': 0.22752808988764045, 'tech': 0.1842696629213483}\n",
      "\n",
      "(f) vocabulary size: 29421\n",
      "\n",
      "(g) word-tokens in each class: \n",
      "\n",
      "(h) word-tokens in the entire corpus: \n",
      "\n",
      "(i) the number and percentage of words with a frequency of zero in each class: \n",
      "\n",
      "(j) the number and percentage of words with a frequency of one in the entire corpus: \n",
      "\n",
      "(k) your 2 favorite words (that are present in the vocabulary) and their log-prob: \n",
      "\n",
      "\n"
     ]
    }
   ],
   "source": [
    "nb4 = skl.naive_bayes.MultinomialNB(alpha=0.9)\n",
    "nb4.fit(x_train, y_train)\n",
    "\n",
    "performance_report(y_test, nb4.predict(x_test))\n",
    "\n",
    "nb_runs = 1 # reset try count"
   ]
  },
  {
   "cell_type": "markdown",
   "metadata": {},
   "source": [
    "11. TODO: Write BBC-discussions.txt"
   ]
  }
 ],
 "metadata": {
  "colab": {
   "authorship_tag": "ABX9TyOM4FWTEFHATi4Q0tnMefGC",
   "collapsed_sections": [],
   "include_colab_link": true,
   "name": "task1.ipynb",
   "provenance": []
  },
  "kernelspec": {
   "display_name": "Python 3 (ipykernel)",
   "language": "python",
   "name": "python3"
  },
  "language_info": {
   "codemirror_mode": {
    "name": "ipython",
    "version": 3
   },
   "file_extension": ".py",
   "mimetype": "text/x-python",
   "name": "python",
   "nbconvert_exporter": "python",
   "pygments_lexer": "ipython3",
   "version": "3.8.0"
  }
 },
 "nbformat": 4,
 "nbformat_minor": 1
}
