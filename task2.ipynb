{
 "cells": [
  {
   "cell_type": "markdown",
   "source": [
    "<a href=\"https://colab.research.google.com/github/a-drew/banan.ai-mp1/blob/main/task2.ipynb\" target=\"_parent\"><img src=\"https://colab.research.google.com/assets/colab-badge.svg\" alt=\"Open In Colab\"/></a>"
   ],
   "metadata": {
    "collapsed": false
   }
  },
  {
   "cell_type": "markdown",
   "source": [
    "#### 1. Imports and Globals"
   ],
   "metadata": {
    "collapsed": false,
    "pycharm": {
     "name": "#%% md\n"
    }
   }
  },
  {
   "cell_type": "code",
   "execution_count": 1,
   "outputs": [],
   "source": [
    "import os\n",
    "import pandas as pd\n",
    "import matplotlib.pyplot as plt\n",
    "import sklearn as skl\n",
    "import numpy as np\n",
    "import logging\n",
    "from sklearn import *\n",
    "from sklearn.utils._testing import ignore_warnings\n",
    "from time import time\n",
    "\n",
    "# controls max iterations of the MLP Classifier. Set higher for better results. Convergence warnings were silenced\n",
    "max_iter = 4000\n",
    "t = time()"
   ],
   "metadata": {
    "collapsed": false,
    "pycharm": {
     "name": "#%%\n"
    }
   }
  },
  {
   "cell_type": "markdown",
   "source": [
    "#### 2. Load the df in Python (you can use pandas.read csv)"
   ],
   "metadata": {
    "collapsed": false,
    "pycharm": {
     "name": "#%% md\n"
    }
   }
  },
  {
   "cell_type": "code",
   "execution_count": 2,
   "outputs": [
    {
     "name": "stdout",
     "output_type": "stream",
     "text": [
      "Age               int64\n",
      "Sex              object\n",
      "BP             category\n",
      "Cholesterol    category\n",
      "Na_to_K         float64\n",
      "Drug           category\n",
      "dtype: object\n"
     ]
    },
    {
     "data": {
      "text/plain": "     Age Sex      BP Cholesterol  Na_to_K   Drug\n0     23   F    HIGH        HIGH   25.355  drugY\n1     47   M     LOW        HIGH   13.093  drugC\n2     47   M     LOW        HIGH   10.114  drugC\n3     28   F  NORMAL        HIGH    7.798  drugX\n4     61   F     LOW        HIGH   18.043  drugY\n..   ...  ..     ...         ...      ...    ...\n195   56   F     LOW        HIGH   11.567  drugC\n196   16   M     LOW        HIGH   12.006  drugC\n197   52   M  NORMAL        HIGH    9.894  drugX\n198   23   M  NORMAL      NORMAL   14.020  drugX\n199   40   F     LOW      NORMAL   11.349  drugX\n\n[200 rows x 6 columns]",
      "text/html": "<div>\n<style scoped>\n    .dataframe tbody tr th:only-of-type {\n        vertical-align: middle;\n    }\n\n    .dataframe tbody tr th {\n        vertical-align: top;\n    }\n\n    .dataframe thead th {\n        text-align: right;\n    }\n</style>\n<table border=\"1\" class=\"dataframe\">\n  <thead>\n    <tr style=\"text-align: right;\">\n      <th></th>\n      <th>Age</th>\n      <th>Sex</th>\n      <th>BP</th>\n      <th>Cholesterol</th>\n      <th>Na_to_K</th>\n      <th>Drug</th>\n    </tr>\n  </thead>\n  <tbody>\n    <tr>\n      <th>0</th>\n      <td>23</td>\n      <td>F</td>\n      <td>HIGH</td>\n      <td>HIGH</td>\n      <td>25.355</td>\n      <td>drugY</td>\n    </tr>\n    <tr>\n      <th>1</th>\n      <td>47</td>\n      <td>M</td>\n      <td>LOW</td>\n      <td>HIGH</td>\n      <td>13.093</td>\n      <td>drugC</td>\n    </tr>\n    <tr>\n      <th>2</th>\n      <td>47</td>\n      <td>M</td>\n      <td>LOW</td>\n      <td>HIGH</td>\n      <td>10.114</td>\n      <td>drugC</td>\n    </tr>\n    <tr>\n      <th>3</th>\n      <td>28</td>\n      <td>F</td>\n      <td>NORMAL</td>\n      <td>HIGH</td>\n      <td>7.798</td>\n      <td>drugX</td>\n    </tr>\n    <tr>\n      <th>4</th>\n      <td>61</td>\n      <td>F</td>\n      <td>LOW</td>\n      <td>HIGH</td>\n      <td>18.043</td>\n      <td>drugY</td>\n    </tr>\n    <tr>\n      <th>...</th>\n      <td>...</td>\n      <td>...</td>\n      <td>...</td>\n      <td>...</td>\n      <td>...</td>\n      <td>...</td>\n    </tr>\n    <tr>\n      <th>195</th>\n      <td>56</td>\n      <td>F</td>\n      <td>LOW</td>\n      <td>HIGH</td>\n      <td>11.567</td>\n      <td>drugC</td>\n    </tr>\n    <tr>\n      <th>196</th>\n      <td>16</td>\n      <td>M</td>\n      <td>LOW</td>\n      <td>HIGH</td>\n      <td>12.006</td>\n      <td>drugC</td>\n    </tr>\n    <tr>\n      <th>197</th>\n      <td>52</td>\n      <td>M</td>\n      <td>NORMAL</td>\n      <td>HIGH</td>\n      <td>9.894</td>\n      <td>drugX</td>\n    </tr>\n    <tr>\n      <th>198</th>\n      <td>23</td>\n      <td>M</td>\n      <td>NORMAL</td>\n      <td>NORMAL</td>\n      <td>14.020</td>\n      <td>drugX</td>\n    </tr>\n    <tr>\n      <th>199</th>\n      <td>40</td>\n      <td>F</td>\n      <td>LOW</td>\n      <td>NORMAL</td>\n      <td>11.349</td>\n      <td>drugX</td>\n    </tr>\n  </tbody>\n</table>\n<p>200 rows × 6 columns</p>\n</div>"
     },
     "execution_count": 2,
     "metadata": {},
     "output_type": "execute_result"
    }
   ],
   "source": [
    "df = pd.read_csv('data/drug200.csv', dtype={'BP': 'category', 'Cholesterol': 'category', 'Drug': 'category'})\n",
    "print(df.dtypes)\n",
    "\n",
    "x = df.loc[:, ['Age', 'Sex', 'BP', 'Cholesterol', 'Na_to_K']]\n",
    "y = df['Drug']\n",
    "classes = np.unique(y)\n",
    "\n",
    "df"
   ],
   "metadata": {
    "collapsed": false,
    "pycharm": {
     "name": "#%%\n"
    }
   }
  },
  {
   "cell_type": "markdown",
   "source": [
    "#### 3. Class Distribution\n",
    "Plot the distribution of the instances in each class and store the graphic in a file called drug-distribution.pdf.\n",
    "You can use matplotlib.pyplot. This pre-analysis will allow you to determine if the classes are balanced,\n",
    "and which metric is more appropriate to use to evaluate the performance of your classifier."
   ],
   "metadata": {
    "collapsed": false,
    "pycharm": {
     "name": "#%% md\n"
    }
   }
  },
  {
   "cell_type": "code",
   "execution_count": 3,
   "outputs": [
    {
     "name": "stdout",
     "output_type": "stream",
     "text": [
      "{'drugA': 23, 'drugB': 16, 'drugC': 16, 'drugX': 54, 'drugY': 91}\n"
     ]
    },
    {
     "data": {
      "text/plain": "<Figure size 432x288 with 1 Axes>",
      "image/png": "[encoded data removed]"
     },
     "metadata": {},
     "output_type": "display_data"
    }
   ],
   "source": [
    "counts = {drug: np.count_nonzero(y == drug) for drug in classes}\n",
    "print(counts)\n",
    "\n",
    "plt.pie(counts.values(), labels=classes, autopct='%1.1f%%')\n",
    "plt.title('Class Distribution')\n",
    "\n",
    "plt.savefig('output/drug-distribution.pdf')\n",
    "plt.show()"
   ],
   "metadata": {
    "collapsed": false,
    "pycharm": {
     "name": "#%%\n"
    }
   }
  },
  {
   "cell_type": "markdown",
   "source": [
    "#### 4. Convert Features to Numerical Form\n",
    "Convert all ordinal and nominal features in numerical format. Make sure that your converted format\n",
    "respects the ordering of ordinal features, and does not introduce any ordering for nominal features.\n",
    "You may want to take a look at pandas.get dummies and pandas.Categorical to do this."
   ],
   "metadata": {
    "collapsed": false
   }
  },
  {
   "cell_type": "code",
   "execution_count": 4,
   "outputs": [
    {
     "name": "stdout",
     "output_type": "stream",
     "text": [
      "0      4\n",
      "1      2\n",
      "2      2\n",
      "3      3\n",
      "4      4\n",
      "      ..\n",
      "195    2\n",
      "196    2\n",
      "197    3\n",
      "198    3\n",
      "199    3\n",
      "Length: 200, dtype: int8\n"
     ]
    },
    {
     "data": {
      "text/plain": "     Age  BP  Cholesterol  Na_to_K  Sex_F  Sex_M\n0     23   0            0   25.355      1      0\n1     47   1            0   13.093      0      1\n2     47   1            0   10.114      0      1\n3     28   2            0    7.798      1      0\n4     61   1            0   18.043      1      0\n..   ...  ..          ...      ...    ...    ...\n195   56   1            0   11.567      1      0\n196   16   1            0   12.006      0      1\n197   52   2            0    9.894      0      1\n198   23   2            1   14.020      0      1\n199   40   1            1   11.349      1      0\n\n[200 rows x 6 columns]",
      "text/html": "<div>\n<style scoped>\n    .dataframe tbody tr th:only-of-type {\n        vertical-align: middle;\n    }\n\n    .dataframe tbody tr th {\n        vertical-align: top;\n    }\n\n    .dataframe thead th {\n        text-align: right;\n    }\n</style>\n<table border=\"1\" class=\"dataframe\">\n  <thead>\n    <tr style=\"text-align: right;\">\n      <th></th>\n      <th>Age</th>\n      <th>BP</th>\n      <th>Cholesterol</th>\n      <th>Na_to_K</th>\n      <th>Sex_F</th>\n      <th>Sex_M</th>\n    </tr>\n  </thead>\n  <tbody>\n    <tr>\n      <th>0</th>\n      <td>23</td>\n      <td>0</td>\n      <td>0</td>\n      <td>25.355</td>\n      <td>1</td>\n      <td>0</td>\n    </tr>\n    <tr>\n      <th>1</th>\n      <td>47</td>\n      <td>1</td>\n      <td>0</td>\n      <td>13.093</td>\n      <td>0</td>\n      <td>1</td>\n    </tr>\n    <tr>\n      <th>2</th>\n      <td>47</td>\n      <td>1</td>\n      <td>0</td>\n      <td>10.114</td>\n      <td>0</td>\n      <td>1</td>\n    </tr>\n    <tr>\n      <th>3</th>\n      <td>28</td>\n      <td>2</td>\n      <td>0</td>\n      <td>7.798</td>\n      <td>1</td>\n      <td>0</td>\n    </tr>\n    <tr>\n      <th>4</th>\n      <td>61</td>\n      <td>1</td>\n      <td>0</td>\n      <td>18.043</td>\n      <td>1</td>\n      <td>0</td>\n    </tr>\n    <tr>\n      <th>...</th>\n      <td>...</td>\n      <td>...</td>\n      <td>...</td>\n      <td>...</td>\n      <td>...</td>\n      <td>...</td>\n    </tr>\n    <tr>\n      <th>195</th>\n      <td>56</td>\n      <td>1</td>\n      <td>0</td>\n      <td>11.567</td>\n      <td>1</td>\n      <td>0</td>\n    </tr>\n    <tr>\n      <th>196</th>\n      <td>16</td>\n      <td>1</td>\n      <td>0</td>\n      <td>12.006</td>\n      <td>0</td>\n      <td>1</td>\n    </tr>\n    <tr>\n      <th>197</th>\n      <td>52</td>\n      <td>2</td>\n      <td>0</td>\n      <td>9.894</td>\n      <td>0</td>\n      <td>1</td>\n    </tr>\n    <tr>\n      <th>198</th>\n      <td>23</td>\n      <td>2</td>\n      <td>1</td>\n      <td>14.020</td>\n      <td>0</td>\n      <td>1</td>\n    </tr>\n    <tr>\n      <th>199</th>\n      <td>40</td>\n      <td>1</td>\n      <td>1</td>\n      <td>11.349</td>\n      <td>1</td>\n      <td>0</td>\n    </tr>\n  </tbody>\n</table>\n<p>200 rows × 6 columns</p>\n</div>"
     },
     "execution_count": 4,
     "metadata": {},
     "output_type": "execute_result"
    }
   ],
   "source": [
    "x_numerical = pd.get_dummies(x, columns=['Sex'])\n",
    "x_numerical['BP'] = x_numerical['BP'].cat.codes\n",
    "x_numerical['Cholesterol'] = x_numerical['Cholesterol'].cat.codes\n",
    "y_numerical = y.cat.codes\n",
    "\n",
    "print(y_numerical)\n",
    "x_numerical"
   ],
   "metadata": {
    "collapsed": false,
    "pycharm": {
     "name": "#%%\n"
    }
   }
  },
  {
   "cell_type": "markdown",
   "source": [
    "#### 5. Split the data into Training & Testing Sets\n",
    "Split the dataset using train_test_split using the default parameter"
   ],
   "metadata": {
    "collapsed": false,
    "pycharm": {
     "name": "#%% md\n"
    }
   }
  },
  {
   "cell_type": "code",
   "execution_count": 5,
   "outputs": [
    {
     "name": "stdout",
     "output_type": "stream",
     "text": [
      "40     4\n",
      "128    4\n",
      "154    4\n",
      "146    3\n",
      "10     2\n",
      "      ..\n",
      "144    0\n",
      "194    4\n",
      "42     4\n",
      "2      2\n",
      "48     4\n",
      "Length: 150, dtype: int8\n"
     ]
    },
    {
     "data": {
      "text/plain": "     Age  BP  Cholesterol  Na_to_K  Sex_F  Sex_M\n40    73   2            0   19.221      1      0\n128   47   1            1   33.542      0      1\n154   37   1            1   16.724      0      1\n146   37   1            1   12.006      1      0\n10    47   1            0   11.767      1      0\n..   ...  ..          ...      ...    ...    ...\n144   39   0            0    9.664      0      1\n194   46   0            0   34.686      1      0\n42    50   2            1   15.790      0      1\n2     47   1            0   10.114      0      1\n48    23   2            0   31.686      0      1\n\n[150 rows x 6 columns]",
      "text/html": "<div>\n<style scoped>\n    .dataframe tbody tr th:only-of-type {\n        vertical-align: middle;\n    }\n\n    .dataframe tbody tr th {\n        vertical-align: top;\n    }\n\n    .dataframe thead th {\n        text-align: right;\n    }\n</style>\n<table border=\"1\" class=\"dataframe\">\n  <thead>\n    <tr style=\"text-align: right;\">\n      <th></th>\n      <th>Age</th>\n      <th>BP</th>\n      <th>Cholesterol</th>\n      <th>Na_to_K</th>\n      <th>Sex_F</th>\n      <th>Sex_M</th>\n    </tr>\n  </thead>\n  <tbody>\n    <tr>\n      <th>40</th>\n      <td>73</td>\n      <td>2</td>\n      <td>0</td>\n      <td>19.221</td>\n      <td>1</td>\n      <td>0</td>\n    </tr>\n    <tr>\n      <th>128</th>\n      <td>47</td>\n      <td>1</td>\n      <td>1</td>\n      <td>33.542</td>\n      <td>0</td>\n      <td>1</td>\n    </tr>\n    <tr>\n      <th>154</th>\n      <td>37</td>\n      <td>1</td>\n      <td>1</td>\n      <td>16.724</td>\n      <td>0</td>\n      <td>1</td>\n    </tr>\n    <tr>\n      <th>146</th>\n      <td>37</td>\n      <td>1</td>\n      <td>1</td>\n      <td>12.006</td>\n      <td>1</td>\n      <td>0</td>\n    </tr>\n    <tr>\n      <th>10</th>\n      <td>47</td>\n      <td>1</td>\n      <td>0</td>\n      <td>11.767</td>\n      <td>1</td>\n      <td>0</td>\n    </tr>\n    <tr>\n      <th>...</th>\n      <td>...</td>\n      <td>...</td>\n      <td>...</td>\n      <td>...</td>\n      <td>...</td>\n      <td>...</td>\n    </tr>\n    <tr>\n      <th>144</th>\n      <td>39</td>\n      <td>0</td>\n      <td>0</td>\n      <td>9.664</td>\n      <td>0</td>\n      <td>1</td>\n    </tr>\n    <tr>\n      <th>194</th>\n      <td>46</td>\n      <td>0</td>\n      <td>0</td>\n      <td>34.686</td>\n      <td>1</td>\n      <td>0</td>\n    </tr>\n    <tr>\n      <th>42</th>\n      <td>50</td>\n      <td>2</td>\n      <td>1</td>\n      <td>15.790</td>\n      <td>0</td>\n      <td>1</td>\n    </tr>\n    <tr>\n      <th>2</th>\n      <td>47</td>\n      <td>1</td>\n      <td>0</td>\n      <td>10.114</td>\n      <td>0</td>\n      <td>1</td>\n    </tr>\n    <tr>\n      <th>48</th>\n      <td>23</td>\n      <td>2</td>\n      <td>0</td>\n      <td>31.686</td>\n      <td>0</td>\n      <td>1</td>\n    </tr>\n  </tbody>\n</table>\n<p>150 rows × 6 columns</p>\n</div>"
     },
     "execution_count": 5,
     "metadata": {},
     "output_type": "execute_result"
    }
   ],
   "source": [
    "x_train, x_test, y_train, y_test = skl.model_selection.train_test_split(x_numerical, y_numerical)\n",
    "print(y_train)\n",
    "x_train"
   ],
   "metadata": {
    "collapsed": false,
    "pycharm": {
     "name": "#%%\n"
    }
   }
  },
  {
   "cell_type": "markdown",
   "source": [
    "#### 6. Run Different Classifiers:\n",
    "    (a) NB: a Gaussian Naive Bayes Classifier (naive bayes.GaussianNB) with the default parameters."
   ],
   "metadata": {
    "collapsed": false
   }
  },
  {
   "cell_type": "code",
   "execution_count": 6,
   "outputs": [
    {
     "name": "stdout",
     "output_type": "stream",
     "text": [
      "\n",
      "Performing Gaussian NB training...\n",
      "done in 0.003s\n"
     ]
    }
   ],
   "source": [
    "models = []\n",
    "print(\"\\nPerforming Gaussian NB training...\")\n",
    "t0 = time()\n",
    "gnb = skl.naive_bayes.GaussianNB()\n",
    "models.append(gnb)\n",
    "gnb.fit(x_train, y_train)\n",
    "print(\"done in %0.3fs\" % (time() - t0))"
   ],
   "metadata": {
    "collapsed": false,
    "pycharm": {
     "name": "#%%\n"
    }
   }
  },
  {
   "cell_type": "markdown",
   "source": [
    "    (b) Base-DT: a Decision Tree (tree.DecisionTreeClassifier) with the default parameters."
   ],
   "metadata": {
    "collapsed": false,
    "pycharm": {
     "name": "#%% md\n"
    }
   }
  },
  {
   "cell_type": "code",
   "execution_count": 7,
   "outputs": [
    {
     "name": "stdout",
     "output_type": "stream",
     "text": [
      "Performing Base Decision Tree training...\n",
      "done in 0.003s\n"
     ]
    }
   ],
   "source": [
    "print(\"Performing Base Decision Tree training...\")\n",
    "t0 = time()\n",
    "bdt = skl.tree.DecisionTreeClassifier()\n",
    "models.append(bdt)\n",
    "bdt.fit(x_train, y_train)\n",
    "print(\"done in %0.3fs\" % (time() - t0))"
   ],
   "metadata": {
    "collapsed": false,
    "pycharm": {
     "name": "#%%\n"
    }
   }
  },
  {
   "cell_type": "markdown",
   "source": [
    "    (c) Top-DT: a better performing Decision Tree found using (GridSearchCV). The gridsearch will allow\n",
    "    you to find the best combination of hyper-parameters, as determined by the evaluation function that\n",
    "    you have determined in step (3) above. The hyper-parameters that you will experiment with are:\n",
    "        - criterion: gini or entropy\n",
    "        - max depth : 2 different values of your choice\n",
    "        - min samples split: 3 different values of your choice"
   ],
   "metadata": {
    "collapsed": false,
    "pycharm": {
     "name": "#%% md\n"
    }
   }
  },
  {
   "cell_type": "code",
   "execution_count": 8,
   "outputs": [
    {
     "name": "stdout",
     "output_type": "stream",
     "text": [
      "Performing Top-DT training w/ grid search...\n",
      "parameters: {'criterion': ['gini', 'entropy'], 'max_depth': [4, 5], 'min_samples_split': [2, 5, 10]}\n",
      "done in 0.203s\n",
      "Best score: 0.987\n",
      "Best parameters: {'criterion': 'gini', 'max_depth': 4, 'min_samples_split': 2}\n"
     ]
    }
   ],
   "source": [
    "print(\"Performing Top-DT training w/ grid search...\")\n",
    "parameters = {\n",
    "    'criterion': ['gini', 'entropy'],\n",
    "    'max_depth': [4, 5],\n",
    "    'min_samples_split': [2, 5, 10]\n",
    "}\n",
    "print(\"parameters:\", parameters)\n",
    "t0 = time()\n",
    "tdt = skl.model_selection.GridSearchCV(skl.tree.DecisionTreeClassifier(), parameters)\n",
    "models.append(tdt)\n",
    "tdt.fit(x_train, y_train)\n",
    "print(\"done in %0.3fs\" % (time() - t0))\n",
    "print(\"Best score: %0.3f\" % tdt.best_score_)\n",
    "print(\"Best parameters:\", tdt.best_params_)"
   ],
   "metadata": {
    "collapsed": false,
    "pycharm": {
     "name": "#%%\n"
    }
   }
  },
  {
   "cell_type": "markdown",
   "source": [
    "    (d) PER: a Perceptron (linear model.Perceptron), with default parameter values."
   ],
   "metadata": {
    "collapsed": false,
    "pycharm": {
     "name": "#%% md\n"
    }
   }
  },
  {
   "cell_type": "code",
   "execution_count": 9,
   "outputs": [
    {
     "name": "stdout",
     "output_type": "stream",
     "text": [
      "Performing Perceptron training...\n",
      "done in 0.005s\n",
      "\n"
     ]
    }
   ],
   "source": [
    "print(\"Performing Perceptron training...\")\n",
    "t0 = time()\n",
    "per = skl.linear_model.Perceptron()\n",
    "models.append(per)\n",
    "per.fit(x_train, y_train)\n",
    "print(\"done in %0.3fs\" % (time() - t0))\n",
    "print()"
   ],
   "metadata": {
    "collapsed": false,
    "pycharm": {
     "name": "#%%\n"
    }
   }
  },
  {
   "cell_type": "markdown",
   "source": [
    "    (e) Base-MLP: a Multi-Layered Perceptron (neural network.MLPClassifier) with 1 hidden layer of\n",
    "    100 neurons, sigmoid/logistic as activation function, stochastic gradient descent, and default values\n",
    "    for the rest of the parameters."
   ],
   "metadata": {
    "collapsed": false,
    "pycharm": {
     "name": "#%% md\n"
    }
   }
  },
  {
   "cell_type": "code",
   "execution_count": 10,
   "outputs": [
    {
     "name": "stdout",
     "output_type": "stream",
     "text": [
      "Performing Base Multi-Layered Perceptron training...\n",
      "done in 2.048s\n"
     ]
    }
   ],
   "source": [
    "print(\"Performing Base Multi-Layered Perceptron training...\")\n",
    "t0 = time()\n",
    "bmlp = skl.neural_network.MLPClassifier(hidden_layer_sizes=100, activation='logistic', solver='sgd', max_iter=max_iter)\n",
    "models.append(bmlp)\n",
    "#with ignore_warnings(category=skl.exceptions.ConvergenceWarning):\n",
    "bmlp.fit(x_train, y_train)\n",
    "print(\"done in %0.3fs\" % (time() - t0))"
   ],
   "metadata": {
    "collapsed": false,
    "pycharm": {
     "name": "#%%\n"
    }
   }
  },
  {
   "cell_type": "markdown",
   "source": [
    "    (f) Top-MLP: a better performing Multi-Layered Perceptron found using grid search. For this, you need\n",
    "    to experiment with the following parameter values:\n",
    "        - activation function: sigmoid, tanh, relu and identity\n",
    "        - 2 network architectures of your choice: for eg 2 hidden layers with 30 + 50 nodes, 3 hidden layers with 10 + 10 + 10\n",
    "        - solver: Adam and stochastic gradient descent"
   ],
   "metadata": {
    "collapsed": false,
    "pycharm": {
     "name": "#%% md\n"
    }
   }
  },
  {
   "cell_type": "code",
   "execution_count": 11,
   "outputs": [
    {
     "name": "stdout",
     "output_type": "stream",
     "text": [
      "Performing Top-MLP training w/ grid search...\n",
      "parameters: {'hidden_layer_sizes': [(10, 20), (15, 15, 15)], 'activation': ['logistic', 'tanh', 'relu', 'identity'], 'solver': ['sgd', 'adam']}\n",
      "done in 56.587s\n",
      "Best score: 0.953\n",
      "Best parameters: {'activation': 'logistic', 'hidden_layer_sizes': (10, 20), 'solver': 'adam'}\n",
      "\n"
     ]
    }
   ],
   "source": [
    "print(\"Performing Top-MLP training w/ grid search...\")\n",
    "parameters = {\n",
    "    'hidden_layer_sizes': [(10, 20), (15, 15, 15)],\n",
    "    'activation': ['logistic', 'tanh', 'relu', 'identity'],\n",
    "    'solver': ['sgd', 'adam'],\n",
    "}\n",
    "print(\"parameters:\", parameters)\n",
    "t0 = time()\n",
    "tmlp = skl.model_selection.GridSearchCV(skl.neural_network.MLPClassifier(max_iter=max_iter), parameters)\n",
    "models.append(tmlp)\n",
    "#with ignore_warnings(category=skl.exceptions.ConvergenceWarning):\n",
    "tmlp.fit(x_train, y_train)\n",
    "print(\"done in %0.3fs\" % (time() - t0))\n",
    "print(\"Best score: %0.3f\" % tmlp.best_score_)\n",
    "print(\"Best parameters:\", tmlp.best_params_)\n",
    "print()"
   ],
   "metadata": {
    "collapsed": false,
    "pycharm": {
     "name": "#%%\n"
    }
   }
  },
  {
   "cell_type": "markdown",
   "source": [
    "#### 7. Report Best Hyperparameters and Metrics for each Classifier\n",
    "For each of the 6 classifier above, append the following information in a file called drugs-performance.txt:\n",
    "\n",
    "    (a) a clear separator (a sequence of hyphens or stars) and a string clearly describing the model (e.g. the\n",
    "        model name + hyper-parameter values that you changed). In the case of Top-DT and Top-MLP,\n",
    "        display the best hyperparameters found by the gridsearch.\n",
    "    (b) the confusion matrix\n",
    "    (c) the precision, recall, and F1-measure for each class\n",
    "    (d) the accuracy, macro-average F1 and weighted-average F1 of the model"
   ],
   "metadata": {
    "collapsed": false,
    "pycharm": {
     "name": "#%% md\n"
    }
   }
  },
  {
   "cell_type": "code",
   "execution_count": 12,
   "outputs": [
    {
     "name": "stderr",
     "output_type": "stream",
     "text": [
      "Task 7:\n",
      "\n"
     ]
    }
   ],
   "source": [
    "if os.path.exists('output/drug-performance.txt'):\n",
    "    os.remove('output/drug-performance.txt')\n",
    "\n",
    "logging.basicConfig(level=logging.INFO, format='%(message)s')\n",
    "logger = logging.getLogger()\n",
    "logger.addHandler(logging.FileHandler('output/drug-performance.txt', 'w'))\n",
    "logger.info(\"Task 7:\\n\")"
   ],
   "metadata": {
    "collapsed": false,
    "pycharm": {
     "name": "#%%\n"
    }
   }
  },
  {
   "cell_type": "code",
   "execution_count": 13,
   "outputs": [
    {
     "name": "stderr",
     "output_type": "stream",
     "text": [
      "================================================================================\n",
      "GaussianNB\n",
      "\n",
      "(b) confusion_matrix:\n",
      "[[ 4  0  0  0  0]\n",
      " [ 0  2  0  0  0]\n",
      " [ 0  0  3  0  0]\n",
      " [ 0  0  0 16  2]\n",
      " [ 0  1  1  0 21]]\n",
      "\n",
      "(c/d) classification_report: \n",
      "              precision    recall  f1-score   support\n",
      "\n",
      "       drugA       1.00      1.00      1.00         4\n",
      "       drugB       0.67      1.00      0.80         2\n",
      "       drugC       0.75      1.00      0.86         3\n",
      "       drugX       1.00      0.89      0.94        18\n",
      "       drugY       0.91      0.91      0.91        23\n",
      "\n",
      "    accuracy                           0.92        50\n",
      "   macro avg       0.87      0.96      0.90        50\n",
      "weighted avg       0.93      0.92      0.92        50\n",
      "\n",
      "\n",
      "(d) accuracy_score: \n",
      "92.0%\n",
      "\n",
      "(d) f1_score (macro avg): \n",
      "90.22725611983923%\n",
      "\n",
      "(d) f1_score (weighted avg): \n",
      "92.22521008403362%\n",
      "================================================================================\n",
      "================================================================================\n",
      "DecisionTreeClassifier\n",
      "\n",
      "(b) confusion_matrix:\n",
      "[[ 4  0  0  0  0]\n",
      " [ 0  2  0  0  0]\n",
      " [ 0  0  3  0  0]\n",
      " [ 0  0  0 17  1]\n",
      " [ 0  0  0  0 23]]\n",
      "\n",
      "(c/d) classification_report: \n",
      "              precision    recall  f1-score   support\n",
      "\n",
      "       drugA       1.00      1.00      1.00         4\n",
      "       drugB       1.00      1.00      1.00         2\n",
      "       drugC       1.00      1.00      1.00         3\n",
      "       drugX       1.00      0.94      0.97        18\n",
      "       drugY       0.96      1.00      0.98        23\n",
      "\n",
      "    accuracy                           0.98        50\n",
      "   macro avg       0.99      0.99      0.99        50\n",
      "weighted avg       0.98      0.98      0.98        50\n",
      "\n",
      "\n",
      "(d) accuracy_score: \n",
      "98.0%\n",
      "\n",
      "(d) f1_score (macro avg): \n",
      "99.00303951367782%\n",
      "\n",
      "(d) f1_score (weighted avg): \n",
      "97.99270516717326%\n",
      "================================================================================\n",
      "================================================================================\n",
      "Top DecisionTreeClassifier\n",
      "Best parameters: \n",
      "{'criterion': 'gini', 'max_depth': 4, 'min_samples_split': 2}\n",
      "\n",
      "(b) confusion_matrix:\n",
      "[[ 4  0  0  0  0]\n",
      " [ 0  2  0  0  0]\n",
      " [ 0  0  3  0  0]\n",
      " [ 0  0  0 17  1]\n",
      " [ 0  0  0  0 23]]\n",
      "\n",
      "(c/d) classification_report: \n",
      "              precision    recall  f1-score   support\n",
      "\n",
      "       drugA       1.00      1.00      1.00         4\n",
      "       drugB       1.00      1.00      1.00         2\n",
      "       drugC       1.00      1.00      1.00         3\n",
      "       drugX       1.00      0.94      0.97        18\n",
      "       drugY       0.96      1.00      0.98        23\n",
      "\n",
      "    accuracy                           0.98        50\n",
      "   macro avg       0.99      0.99      0.99        50\n",
      "weighted avg       0.98      0.98      0.98        50\n",
      "\n",
      "\n",
      "(d) accuracy_score: \n",
      "98.0%\n",
      "\n",
      "(d) f1_score (macro avg): \n",
      "99.00303951367782%\n",
      "\n",
      "(d) f1_score (weighted avg): \n",
      "97.99270516717326%\n",
      "================================================================================\n",
      "================================================================================\n",
      "Perceptron\n",
      "\n",
      "(b) confusion_matrix:\n",
      "[[ 0  0  0  3  1]\n",
      " [ 0  0  0  2  0]\n",
      " [ 0  0  0  3  0]\n",
      " [ 0  0  0 18  0]\n",
      " [ 0  0  0 11 12]]\n",
      "\n",
      "(c/d) classification_report: \n",
      "/Users/andrew/OneDrive - Concordia University - Canada/Conco/21-F/COMP 472/Assignments/COMP472-MP1/venv/lib/python3.9/site-packages/sklearn/metrics/_classification.py:1308: UndefinedMetricWarning: Precision and F-score are ill-defined and being set to 0.0 in labels with no predicted samples. Use `zero_division` parameter to control this behavior.\n",
      "  _warn_prf(average, modifier, msg_start, len(result))\n",
      "/Users/andrew/OneDrive - Concordia University - Canada/Conco/21-F/COMP 472/Assignments/COMP472-MP1/venv/lib/python3.9/site-packages/sklearn/metrics/_classification.py:1308: UndefinedMetricWarning: Precision and F-score are ill-defined and being set to 0.0 in labels with no predicted samples. Use `zero_division` parameter to control this behavior.\n",
      "  _warn_prf(average, modifier, msg_start, len(result))\n",
      "/Users/andrew/OneDrive - Concordia University - Canada/Conco/21-F/COMP 472/Assignments/COMP472-MP1/venv/lib/python3.9/site-packages/sklearn/metrics/_classification.py:1308: UndefinedMetricWarning: Precision and F-score are ill-defined and being set to 0.0 in labels with no predicted samples. Use `zero_division` parameter to control this behavior.\n",
      "  _warn_prf(average, modifier, msg_start, len(result))\n",
      "              precision    recall  f1-score   support\n",
      "\n",
      "       drugA       0.00      0.00      0.00         4\n",
      "       drugB       0.00      0.00      0.00         2\n",
      "       drugC       0.00      0.00      0.00         3\n",
      "       drugX       0.49      1.00      0.65        18\n",
      "       drugY       0.92      0.52      0.67        23\n",
      "\n",
      "    accuracy                           0.60        50\n",
      "   macro avg       0.28      0.30      0.26        50\n",
      "weighted avg       0.60      0.60      0.54        50\n",
      "\n",
      "\n",
      "(d) accuracy_score: \n",
      "60.0%\n",
      "\n",
      "(d) f1_score (macro avg): \n",
      "26.42424242424243%\n",
      "\n",
      "(d) f1_score (weighted avg): \n",
      "54.23030303030303%\n",
      "================================================================================\n",
      "================================================================================\n",
      "MLPClassifier\n",
      "\n",
      "(b) confusion_matrix:\n",
      "[[ 0  0  0  3  1]\n",
      " [ 0  0  0  0  2]\n",
      " [ 0  0  0  3  0]\n",
      " [ 0  1  0 17  0]\n",
      " [ 0  0  0  1 22]]\n",
      "\n",
      "(c/d) classification_report: \n",
      "/Users/andrew/OneDrive - Concordia University - Canada/Conco/21-F/COMP 472/Assignments/COMP472-MP1/venv/lib/python3.9/site-packages/sklearn/metrics/_classification.py:1308: UndefinedMetricWarning: Precision and F-score are ill-defined and being set to 0.0 in labels with no predicted samples. Use `zero_division` parameter to control this behavior.\n",
      "  _warn_prf(average, modifier, msg_start, len(result))\n",
      "/Users/andrew/OneDrive - Concordia University - Canada/Conco/21-F/COMP 472/Assignments/COMP472-MP1/venv/lib/python3.9/site-packages/sklearn/metrics/_classification.py:1308: UndefinedMetricWarning: Precision and F-score are ill-defined and being set to 0.0 in labels with no predicted samples. Use `zero_division` parameter to control this behavior.\n",
      "  _warn_prf(average, modifier, msg_start, len(result))\n",
      "/Users/andrew/OneDrive - Concordia University - Canada/Conco/21-F/COMP 472/Assignments/COMP472-MP1/venv/lib/python3.9/site-packages/sklearn/metrics/_classification.py:1308: UndefinedMetricWarning: Precision and F-score are ill-defined and being set to 0.0 in labels with no predicted samples. Use `zero_division` parameter to control this behavior.\n",
      "  _warn_prf(average, modifier, msg_start, len(result))\n",
      "              precision    recall  f1-score   support\n",
      "\n",
      "       drugA       0.00      0.00      0.00         4\n",
      "       drugB       0.00      0.00      0.00         2\n",
      "       drugC       0.00      0.00      0.00         3\n",
      "       drugX       0.71      0.94      0.81        18\n",
      "       drugY       0.88      0.96      0.92        23\n",
      "\n",
      "    accuracy                           0.78        50\n",
      "   macro avg       0.32      0.38      0.35        50\n",
      "weighted avg       0.66      0.78      0.71        50\n",
      "\n",
      "\n",
      "(d) accuracy_score: \n",
      "78.0%\n",
      "\n",
      "(d) f1_score (macro avg): \n",
      "34.523809523809526%\n",
      "\n",
      "(d) f1_score (weighted avg): \n",
      "71.30952380952381%\n",
      "================================================================================\n",
      "================================================================================\n",
      "Top MLPClassifier\n",
      "Best parameters: \n",
      "{'activation': 'logistic', 'hidden_layer_sizes': (10, 20), 'solver': 'adam'}\n",
      "\n",
      "(b) confusion_matrix:\n",
      "[[ 4  0  0  0  0]\n",
      " [ 0  1  0  0  1]\n",
      " [ 0  0  3  0  0]\n",
      " [ 0  0  0 18  0]\n",
      " [ 0  1  0  0 22]]\n",
      "\n",
      "(c/d) classification_report: \n",
      "              precision    recall  f1-score   support\n",
      "\n",
      "       drugA       1.00      1.00      1.00         4\n",
      "       drugB       0.50      0.50      0.50         2\n",
      "       drugC       1.00      1.00      1.00         3\n",
      "       drugX       1.00      1.00      1.00        18\n",
      "       drugY       0.96      0.96      0.96        23\n",
      "\n",
      "    accuracy                           0.96        50\n",
      "   macro avg       0.89      0.89      0.89        50\n",
      "weighted avg       0.96      0.96      0.96        50\n",
      "\n",
      "\n",
      "(d) accuracy_score: \n",
      "96.0%\n",
      "\n",
      "(d) f1_score (macro avg): \n",
      "89.13043478260869%\n",
      "\n",
      "(d) f1_score (weighted avg): \n",
      "96.0%\n",
      "================================================================================\n"
     ]
    }
   ],
   "source": [
    "def performance_report(model):\n",
    "    logger.info('================================================================================')\n",
    "    if isinstance(model, skl.model_selection.GridSearchCV):\n",
    "        logger.info(\"Top \" + type(model.estimator).__name__)\n",
    "        #logger.info(\"Best score: %0.3f\" % model.best_score_)\n",
    "        logger.info(\"Best parameters: \")\n",
    "        logger.info(model.best_params_)\n",
    "    else:\n",
    "        logger.info(type(model).__name__)\n",
    "\n",
    "    y_pred = model.predict(x_test)\n",
    "\n",
    "    logger.info('\\n(b) confusion_matrix:')\n",
    "    logger.info(skl.metrics.confusion_matrix(y_test, y_pred))\n",
    "    logger.info(\"\\n(c/d) classification_report: \")\n",
    "    logger.info(skl.metrics.classification_report(y_test, y_pred, target_names=classes))\n",
    "    logger.info(\"\\n(d) accuracy_score: \")\n",
    "    logger.info(str(100 * skl.metrics.accuracy_score(y_test, y_pred)) + '%')\n",
    "    logger.info(\"\\n(d) f1_score (macro avg): \")\n",
    "    logger.info(str(100 * skl.metrics.f1_score(y_test, y_pred, average='macro')) + '%')\n",
    "    logger.info(\"\\n(d) f1_score (weighted avg): \")\n",
    "    logger.info(str(100 * skl.metrics.f1_score(y_test, y_pred, average='weighted')) + '%')\n",
    "    logger.info('================================================================================')\n",
    "\n",
    "\n",
    "for model in models:\n",
    "    performance_report(model)"
   ],
   "metadata": {
    "collapsed": false,
    "pycharm": {
     "name": "#%%\n"
    }
   }
  },
  {
   "cell_type": "markdown",
   "source": [
    "#### 8. Calculate avg and std Metrics\n",
    "Redo steps 6, 10 times for each model and append the average accuracy, average macro-average F1, average\n",
    "weighted-average F1 as well as the standard deviation for the accuracy, the standard deviation of the macro-average F1,\n",
    "and the standard deviation of the weighted-average F1 at the end of the file drugs-performance.txt."
   ],
   "metadata": {
    "collapsed": false,
    "pycharm": {
     "name": "#%% md\n"
    }
   }
  },
  {
   "cell_type": "code",
   "execution_count": 14,
   "outputs": [
    {
     "name": "stderr",
     "output_type": "stream",
     "text": [
      "\n",
      "Task 8:\n",
      "\n"
     ]
    }
   ],
   "source": [
    "logger.info(\"\\nTask 8:\\n\")\n",
    "\n",
    "\n",
    "def train_predict_collect_metrics(model):\n",
    "    #with ignore_warnings(category=skl.exceptions.ConvergenceWarning):\n",
    "    model.fit(x_train, y_train)\n",
    "    y_pred = model.predict(x_test)\n",
    "    acc = skl.metrics.accuracy_score(y_test, y_pred)\n",
    "    maf1 = skl.metrics.f1_score(y_test, y_pred, average='macro')\n",
    "    waf1 = skl.metrics.f1_score(y_test, y_pred, average='weighted')\n",
    "    return acc, maf1, waf1\n",
    "\n",
    "\n",
    "def general_metrics_report(metrics, desc=None):\n",
    "    logger.info('================================================================================')\n",
    "    if desc is not None:\n",
    "        logger.info(desc)\n",
    "    average = [sum(x) / len(x) for x in zip(*metrics)]\n",
    "    logger.info(\"Average Accuracy: \" + str(100 * average[0]) + \"%\")\n",
    "    logger.info(\"Average macro-average F1: \" + str(100 * average[1]) + \"%\")\n",
    "    logger.info(\"Average weighted-average F1: \" + str(100 * average[2]) + \"%\")\n",
    "    std = [np.std(s) for s in zip(*metrics)]\n",
    "    logger.info(\"Accuracy Standard Deviation: \" + str(std[0]))\n",
    "    logger.info(\"Macro-Average F1 Standard Deviation: \" + str(std[1]))\n",
    "    logger.info(\"Weighted-Average F1 Standard Deviation: \" + str(std[2]))\n",
    "    logger.info('================================================================================')"
   ],
   "metadata": {
    "collapsed": false,
    "pycharm": {
     "name": "#%%\n"
    }
   }
  },
  {
   "cell_type": "markdown",
   "source": [
    "    (a) NB: a Gaussian Naive Bayes Classifier (naive bayes.GaussianNB) with the default parameters"
   ],
   "metadata": {
    "collapsed": false
   }
  },
  {
   "cell_type": "code",
   "execution_count": 15,
   "outputs": [
    {
     "name": "stdout",
     "output_type": "stream",
     "text": [
      "\n",
      "Calculating Metrics for Gaussian NB...\n",
      "run #1\n",
      "(0.92, 0.9022725611983923, 0.9222521008403362)\n",
      "run #2\n",
      "(0.92, 0.9022725611983923, 0.9222521008403362)\n",
      "run #3\n",
      "(0.92, 0.9022725611983923, 0.9222521008403362)\n",
      "run #4\n",
      "(0.92, 0.9022725611983923, 0.9222521008403362)\n",
      "run #5\n",
      "(0.92, 0.9022725611983923, 0.9222521008403362)\n",
      "run #6\n",
      "(0.92, 0.9022725611983923, 0.9222521008403362)"
     ]
    },
    {
     "name": "stderr",
     "output_type": "stream",
     "text": [
      "================================================================================\n",
      "Metrics for 10 runs of Gaussian Naive Bayes: \n",
      "Average Accuracy: 92.00000000000001%\n",
      "Average macro-average F1: 90.22725611983924%\n",
      "Average weighted-average F1: 92.22521008403362%\n",
      "Accuracy Standard Deviation: 1.1102230246251565e-16\n",
      "Macro-Average F1 Standard Deviation: 0.0\n",
      "Weighted-Average F1 Standard Deviation: 1.1102230246251565e-16\n",
      "================================================================================\n"
     ]
    },
    {
     "name": "stdout",
     "output_type": "stream",
     "text": [
      "\n",
      "run #7\n",
      "(0.92, 0.9022725611983923, 0.9222521008403362)\n",
      "run #8\n",
      "(0.92, 0.9022725611983923, 0.9222521008403362)\n",
      "run #9\n",
      "(0.92, 0.9022725611983923, 0.9222521008403362)\n",
      "run #10\n",
      "(0.92, 0.9022725611983923, 0.9222521008403362)\n",
      "done in 0.077s\n"
     ]
    }
   ],
   "source": [
    "print(\"\\nCalculating Metrics for Gaussian NB...\")\n",
    "t0 = time()\n",
    "gnb_metrics = []\n",
    "for i in range(10):\n",
    "    print('run #' + str(i + 1))\n",
    "    gnb = skl.naive_bayes.GaussianNB()\n",
    "    gnb_metrics.append(train_predict_collect_metrics(gnb))\n",
    "    print(gnb_metrics[-1])\n",
    "print(\"done in %0.3fs\" % (time() - t0))\n",
    "general_metrics_report(gnb_metrics, desc=\"Metrics for 10 runs of Gaussian Naive Bayes: \")"
   ],
   "metadata": {
    "collapsed": false,
    "pycharm": {
     "name": "#%%\n"
    }
   }
  },
  {
   "cell_type": "markdown",
   "source": [
    "    (b) Base-DT: a Decision Tree (tree.DecisionTreeClassifier) with the default parameters"
   ],
   "metadata": {
    "collapsed": false,
    "pycharm": {
     "name": "#%% md\n"
    }
   }
  },
  {
   "cell_type": "code",
   "execution_count": 16,
   "outputs": [
    {
     "name": "stderr",
     "output_type": "stream",
     "text": [
      "================================================================================\n",
      "Metrics for 10 runs of Base Decision Tree: \n",
      "Average Accuracy: 98.00000000000001%\n",
      "Average macro-average F1: 99.00303951367782%\n",
      "Average weighted-average F1: 97.99270516717324%\n",
      "Accuracy Standard Deviation: 1.1102230246251565e-16\n",
      "Macro-Average F1 Standard Deviation: 1.1102230246251565e-16\n",
      "Weighted-Average F1 Standard Deviation: 1.1102230246251565e-16\n",
      "================================================================================\n"
     ]
    },
    {
     "name": "stdout",
     "output_type": "stream",
     "text": [
      "Calculating Metrics for Base Decision Tree...\n",
      "run #1\n",
      "(0.98, 0.9900303951367782, 0.9799270516717326)\n",
      "run #2\n",
      "(0.98, 0.9900303951367782, 0.9799270516717326)\n",
      "run #3\n",
      "(0.98, 0.9900303951367782, 0.9799270516717326)\n",
      "run #4\n",
      "(0.98, 0.9900303951367782, 0.9799270516717326)\n",
      "run #5\n",
      "(0.98, 0.9900303951367782, 0.9799270516717326)\n",
      "run #6\n",
      "(0.98, 0.9900303951367782, 0.9799270516717326)\n",
      "run #7\n",
      "(0.98, 0.9900303951367782, 0.9799270516717326)\n",
      "run #8\n",
      "(0.98, 0.9900303951367782, 0.9799270516717326)\n",
      "run #9\n",
      "(0.98, 0.9900303951367782, 0.9799270516717326)\n",
      "run #10\n",
      "(0.98, 0.9900303951367782, 0.9799270516717326)\n",
      "done in 0.067s\n"
     ]
    }
   ],
   "source": [
    "print(\"Calculating Metrics for Base Decision Tree...\")\n",
    "t0 = time()\n",
    "bdt_metrics = []\n",
    "for i in range(10):\n",
    "    print('run #' + str(i + 1))\n",
    "    bdt = skl.tree.DecisionTreeClassifier()\n",
    "    bdt_metrics.append(train_predict_collect_metrics(bdt))\n",
    "    print(bdt_metrics[-1])\n",
    "print(\"done in %0.3fs\" % (time() - t0))\n",
    "general_metrics_report(bdt_metrics, desc=\"Metrics for 10 runs of Base Decision Tree: \")"
   ],
   "metadata": {
    "collapsed": false,
    "pycharm": {
     "name": "#%%\n"
    }
   }
  },
  {
   "cell_type": "markdown",
   "source": [
    "    (c) Top-DT: a better performing Decision Tree found using (GridSearchCV)"
   ],
   "metadata": {
    "collapsed": false
   }
  },
  {
   "cell_type": "code",
   "execution_count": 17,
   "outputs": [
    {
     "name": "stdout",
     "output_type": "stream",
     "text": [
      "Calculating Metrics for Top-DT w/ grid search...\n",
      "run #1\n",
      "(0.98, 0.9900303951367782, 0.9799270516717326)\n",
      "run #2\n",
      "(0.98, 0.9900303951367782, 0.9799270516717326)\n",
      "run #3\n",
      "(0.98, 0.9900303951367782, 0.9799270516717326)\n",
      "run #4\n",
      "(0.98, 0.9900303951367782, 0.9799270516717326)\n",
      "run #5\n",
      "(0.98, 0.9900303951367782, 0.9799270516717326)\n",
      "run #6\n",
      "(0.98, 0.9900303951367782, 0.9799270516717326)\n",
      "run #7\n",
      "(0.98, 0.9900303951367782, 0.9799270516717326)\n",
      "run #8\n",
      "(0.98, 0.9900303951367782, 0.9799270516717326)\n",
      "run #9\n",
      "(0.98, 0.9900303951367782, 0.9799270516717326)\n",
      "run #10\n"
     ]
    },
    {
     "name": "stderr",
     "output_type": "stream",
     "text": [
      "================================================================================\n",
      "Metrics for 10 runs of Top Decision Tree: \n",
      "Average Accuracy: 98.00000000000001%\n",
      "Average macro-average F1: 99.00303951367782%\n",
      "Average weighted-average F1: 97.99270516717324%\n",
      "Accuracy Standard Deviation: 1.1102230246251565e-16\n",
      "Macro-Average F1 Standard Deviation: 1.1102230246251565e-16\n",
      "Weighted-Average F1 Standard Deviation: 1.1102230246251565e-16\n",
      "================================================================================\n"
     ]
    },
    {
     "name": "stdout",
     "output_type": "stream",
     "text": [
      "(0.98, 0.9900303951367782, 0.9799270516717326)\n",
      "done in 2.532s\n"
     ]
    }
   ],
   "source": [
    "print(\"Calculating Metrics for Top-DT w/ grid search...\")\n",
    "parameters = {\n",
    "    'criterion': ['gini', 'entropy'],\n",
    "    'max_depth': [4, 5],\n",
    "    'min_samples_split': [2, 5, 10]\n",
    "}\n",
    "t0 = time()\n",
    "tdt_metrics = []\n",
    "for i in range(10):\n",
    "    print('run #' + str(i + 1))\n",
    "    tdt = skl.model_selection.GridSearchCV(skl.tree.DecisionTreeClassifier(), parameters)\n",
    "    tdt_metrics.append(train_predict_collect_metrics(tdt))\n",
    "    print(tdt_metrics[-1])\n",
    "print(\"done in %0.3fs\" % (time() - t0))\n",
    "general_metrics_report(tdt_metrics, desc=\"Metrics for 10 runs of Top Decision Tree: \")"
   ],
   "metadata": {
    "collapsed": false,
    "pycharm": {
     "name": "#%%\n"
    }
   }
  },
  {
   "cell_type": "markdown",
   "source": [
    "    (d) PER: a Perceptron (linear model.Perceptron), with default parameter values"
   ],
   "metadata": {
    "collapsed": false
   }
  },
  {
   "cell_type": "code",
   "execution_count": 18,
   "outputs": [
    {
     "name": "stderr",
     "output_type": "stream",
     "text": [
      "================================================================================\n",
      "Metrics for 10 runs of Perceptron: \n",
      "Average Accuracy: 59.999999999999986%\n",
      "Average macro-average F1: 26.424242424242422%\n",
      "Average weighted-average F1: 54.23030303030302%\n",
      "Accuracy Standard Deviation: 1.1102230246251565e-16\n",
      "Macro-Average F1 Standard Deviation: 0.0\n",
      "Weighted-Average F1 Standard Deviation: 1.1102230246251565e-16\n",
      "================================================================================\n"
     ]
    },
    {
     "name": "stdout",
     "output_type": "stream",
     "text": [
      "Calculating Metrics for Perceptron...\n",
      "run #1\n",
      "(0.6, 0.2642424242424243, 0.5423030303030303)\n",
      "run #2\n",
      "(0.6, 0.2642424242424243, 0.5423030303030303)\n",
      "run #3\n",
      "(0.6, 0.2642424242424243, 0.5423030303030303)\n",
      "run #4\n",
      "(0.6, 0.2642424242424243, 0.5423030303030303)\n",
      "run #5\n",
      "(0.6, 0.2642424242424243, 0.5423030303030303)\n",
      "run #6\n",
      "(0.6, 0.2642424242424243, 0.5423030303030303)\n",
      "run #7\n",
      "(0.6, 0.2642424242424243, 0.5423030303030303)\n",
      "run #8\n",
      "(0.6, 0.2642424242424243, 0.5423030303030303)\n",
      "run #9\n",
      "(0.6, 0.2642424242424243, 0.5423030303030303)\n",
      "run #10\n",
      "(0.6, 0.2642424242424243, 0.5423030303030303)\n",
      "done in 0.083s\n"
     ]
    }
   ],
   "source": [
    "print(\"Calculating Metrics for Perceptron...\")\n",
    "t0 = time()\n",
    "per_metrics = []\n",
    "for i in range(10):\n",
    "    print('run #' + str(i + 1))\n",
    "    per = skl.linear_model.Perceptron()\n",
    "    per_metrics.append(train_predict_collect_metrics(per))\n",
    "    print(per_metrics[-1])\n",
    "print(\"done in %0.3fs\" % (time() - t0))\n",
    "general_metrics_report(per_metrics, desc=\"Metrics for 10 runs of Perceptron: \")"
   ],
   "metadata": {
    "collapsed": false,
    "pycharm": {
     "name": "#%%\n"
    }
   }
  },
  {
   "cell_type": "markdown",
   "source": [
    "    (e) Base-MLP: a Multi-Layered Perceptron (neural network.MLPClassifier)"
   ],
   "metadata": {
    "collapsed": false
   }
  },
  {
   "cell_type": "code",
   "execution_count": 19,
   "outputs": [
    {
     "name": "stdout",
     "output_type": "stream",
     "text": [
      "Calculating Metrics for Base Multi-Layered Perceptron...\n",
      "run #1\n",
      "(0.78, 0.4195918367346939, 0.7330612244897959)\n",
      "run #2\n",
      "(0.76, 0.33568939771030365, 0.6940368342458935)\n",
      "run #3\n",
      "(0.76, 0.33568939771030365, 0.6940368342458935)\n",
      "run #4\n",
      "(0.8, 0.4291869918699187, 0.7522032520325204)\n",
      "run #5\n",
      "(0.78, 0.4280128893662729, 0.7482191192266382)\n",
      "run #6\n",
      "(0.76, 0.33568939771030365, 0.6940368342458935)\n",
      "run #7\n",
      "(0.78, 0.4195918367346939, 0.7330612244897959)\n",
      "run #8\n",
      "(0.78, 0.4195918367346939, 0.7330612244897959)\n",
      "run #9\n",
      "(0.76, 0.33568939771030365, 0.6940368342458935)\n",
      "run #10\n"
     ]
    },
    {
     "name": "stderr",
     "output_type": "stream",
     "text": [
      "================================================================================\n",
      "Metrics for 10 runs of Base Multi-Layered Perceptron: \n",
      "Average Accuracy: 77.8%\n",
      "Average macro-average F1: 39.451540167045984%\n",
      "Average weighted-average F1: 72.58261598283647%\n",
      "Accuracy Standard Deviation: 0.0188679622641132\n",
      "Macro-Average F1 Standard Deviation: 0.05147749404820411\n",
      "Weighted-Average F1 Standard Deviation: 0.02934166755028262\n",
      "================================================================================\n"
     ]
    },
    {
     "name": "stdout",
     "output_type": "stream",
     "text": [
      "(0.82, 0.48642103442311024, 0.7825082165715274)\n",
      "done in 21.064s\n",
      "\n"
     ]
    }
   ],
   "source": [
    "print(\"Calculating Metrics for Base Multi-Layered Perceptron...\")\n",
    "t0 = time()\n",
    "bmlp_metrics = []\n",
    "for i in range(10):\n",
    "    print('run #' + str(i + 1))\n",
    "    bmlp = skl.neural_network.MLPClassifier(hidden_layer_sizes=100, activation='logistic', solver='sgd', max_iter=max_iter)\n",
    "    bmlp_metrics.append(train_predict_collect_metrics(bmlp))\n",
    "    print(bmlp_metrics[-1])\n",
    "print(\"done in %0.3fs\" % (time() - t0))\n",
    "print()\n",
    "general_metrics_report(bmlp_metrics, desc=\"Metrics for 10 runs of Base Multi-Layered Perceptron: \")"
   ],
   "metadata": {
    "collapsed": false,
    "pycharm": {
     "name": "#%%\n"
    }
   }
  },
  {
   "cell_type": "markdown",
   "source": [
    "    (f) Top-MLP: a better performing Multi-Layered Perceptron found using grid search"
   ],
   "metadata": {
    "collapsed": false
   }
  },
  {
   "cell_type": "code",
   "execution_count": 20,
   "outputs": [
    {
     "name": "stdout",
     "output_type": "stream",
     "text": [
      "Calculating Metrics for Top Multi-Layered Perceptron...\n",
      "run #1\n",
      "(0.94, 0.8573809523809525, 0.9391190476190476)\n",
      "run #2\n",
      "(0.9, 0.8136507936507936, 0.9007619047619048)\n",
      "run #3\n",
      "(0.5, 0.2023809523809524, 0.4464285714285715)\n",
      "run #4\n",
      "(0.98, 0.9555555555555555, 0.9817777777777777)\n",
      "run #5\n",
      "(0.94, 0.8573809523809525, 0.9391190476190476)\n",
      "run #6\n",
      "(0.94, 0.9142857142857143, 0.9457142857142855)\n",
      "run #7\n",
      "(0.94, 0.8573809523809525, 0.9391190476190476)\n",
      "run #8\n",
      "(0.94, 0.8090780141843972, 0.9395460992907801)\n",
      "run #9\n",
      "(0.92, 0.7992857142857143, 0.9198809523809524)\n",
      "run #10\n"
     ]
    },
    {
     "name": "stderr",
     "output_type": "stream",
     "text": [
      "================================================================================\n",
      "Metrics for 10 runs of Top Multi-Layered Perceptron: \n",
      "Average Accuracy: 89.59999999999997%\n",
      "Average macro-average F1: 79.85665315771699%\n",
      "Average weighted-average F1: 89.08681019925702%\n",
      "Accuracy Standard Deviation: 0.13350655414622908\n",
      "Macro-Average F1 Standard Deviation: 0.20463694694455767\n",
      "Weighted-Average F1 Standard Deviation: 0.1494973668483831\n",
      "================================================================================\n"
     ]
    },
    {
     "name": "stdout",
     "output_type": "stream",
     "text": [
      "(0.96, 0.9192857142857143, 0.9572142857142856)\n",
      "done in 454.159s\n",
      "\n",
      "\n",
      "\n",
      "Total runtime: 537.287s\n"
     ]
    }
   ],
   "source": [
    "print(\"Calculating Metrics for Top Multi-Layered Perceptron...\")\n",
    "parameters = {\n",
    "    'hidden_layer_sizes': [(10, 20), (15, 15, 15)],\n",
    "    'activation': ['logistic', 'tanh', 'relu', 'identity'],\n",
    "    'solver': ['sgd', 'adam'],\n",
    "    'max_iter': [max_iter],\n",
    "}\n",
    "t0 = time()\n",
    "tmlp_metrics = []\n",
    "for i in range(10):\n",
    "    print('run #' + str(i + 1))\n",
    "    tmlp = skl.model_selection.GridSearchCV(skl.neural_network.MLPClassifier(), parameters)\n",
    "    tmlp_metrics.append(train_predict_collect_metrics(tmlp))\n",
    "    print(tmlp_metrics[-1])\n",
    "print(\"done in %0.3fs\" % (time() - t0))\n",
    "print()\n",
    "general_metrics_report(tmlp_metrics, desc=\"Metrics for 10 runs of Top Multi-Layered Perceptron: \")\n",
    "\n",
    "print(\"\\n\\nTotal runtime: %0.3fs\" % (time() - t))"
   ],
   "metadata": {
    "collapsed": false,
    "pycharm": {
     "name": "#%%\n"
    }
   }
  },
  {
   "cell_type": "markdown",
   "source": [
    "#### 8. Analysis\n",
    "Does the same model give you the same performance every time? Explain in a plain text file called drugs-discussion.txt.\n",
    "1 or 2 paragraph discussion is expected."
   ],
   "metadata": {
    "collapsed": false,
    "pycharm": {
     "name": "#%% md\n"
    }
   }
  }
 ],
 "metadata": {
  "colab": {
   "authorship_tag": "ABX9TyOM4FWTEFHATi4Q0tnMefGC",
   "collapsed_sections": [],
   "include_colab_link": true,
   "name": "task1.ipynb",
   "provenance": []
  },
  "kernelspec": {
   "display_name": "Python 3 (ipykernel)",
   "language": "python",
   "name": "python3"
  },
  "language_info": {
   "codemirror_mode": {
    "name": "ipython",
    "version": 3
   },
   "file_extension": ".py",
   "mimetype": "text/x-python",
   "name": "python",
   "nbconvert_exporter": "python",
   "pygments_lexer": "ipython3",
   "version": "3.8.0"
  }
 },
 "nbformat": 4,
 "nbformat_minor": 1
}